{
 "cells": [
  {
   "cell_type": "markdown",
   "metadata": {},
   "source": [
    "*Credits: materials from this notebook belong to YSDA [Practical DL](https://github.com/yandexdataschool/Practical_DL) course. Special thanks for making them available online.*"
   ]
  },
  {
   "cell_type": "markdown",
   "metadata": {},
   "source": [
    "# Lab assignment №1, part 1\n",
    "\n",
    "This lab assignment consists of several parts. You are supposed to make some transformations, train some models, estimate the quality of the models and explain your results.\n",
    "\n",
    "Several comments:\n",
    "* Don't hesitate to ask questions, it's a good practice.\n",
    "* No private/public sharing, please. The copied assignments will be graded with 0 points.\n",
    "* Blocks of this lab will be graded separately."
   ]
  },
  {
   "cell_type": "markdown",
   "metadata": {},
   "source": [
    "## 1. Matrix differentiation"
   ]
  },
  {
   "cell_type": "markdown",
   "metadata": {},
   "source": [
    "Since it easy to google every task please please please try to undestand what's going on. The \"just answer\" thing will be not counted, make sure to present derivation of your solution. It is absolutely OK if you found an answer on web then just exercise in $\\LaTeX$ copying it into here."
   ]
  },
  {
   "cell_type": "markdown",
   "metadata": {},
   "source": [
    "Useful links:\n",
    "- [Matrix Differentiation (EN)](http://www.atmos.washington.edu/~dennis/MatrixCalculus.pdf)\n",
    "- [Матричные вычисления (RU)](http://www.machinelearning.ru/wiki/images/2/2a/Matrix-Gauss.pdf)"
   ]
  },
  {
   "cell_type": "markdown",
   "metadata": {},
   "source": [
    "## Exercise 1"
   ]
  },
  {
   "cell_type": "markdown",
   "metadata": {},
   "source": [
    "$$  \n",
    "y = x^Tx,  \\quad x \\in \\mathbb{R}^N \n",
    "$$"
   ]
  },
  {
   "cell_type": "markdown",
   "metadata": {},
   "source": [
    "$$\n",
    "\\frac{dy}{dx} =  \\begin{bmatrix}\n",
    "\\frac{\\partial \\sum_{i=1}^n x_i^2}{\\partial x_1} \\\\\n",
    "\\vdots \\\\\n",
    "\\frac{\\partial \\sum_{i=1}^n x_i^2}{\\partial x_N}\n",
    "\\end{bmatrix}  = \\begin{bmatrix}\n",
    "2x_1 \\\\\n",
    "\\vdots \\\\\n",
    "2x_N\n",
    "\\end{bmatrix} = 2x\n",
    "$$ "
   ]
  },
  {
   "cell_type": "markdown",
   "metadata": {},
   "source": [
    "## Exercise 2"
   ]
  },
  {
   "cell_type": "markdown",
   "metadata": {},
   "source": [
    "$$ y = tr(AB) \\quad A,B \\in \\mathbb{R}^{N \\times N} $$ "
   ]
  },
  {
   "cell_type": "markdown",
   "metadata": {},
   "source": [
    "$$\n",
    "    y = \\sum^N_{i=1}\\sum^N_{j=1} A_{ij} B_{ji}\n",
    "$$\n",
    "\n",
    "$$\n",
    "    \\frac{dy}{dA} = \\begin{bmatrix}\n",
    "\\frac{\\partial y}{\\partial A_{11}} \\dots \\frac{\\partial y}{d A_{1n}} \\\\\n",
    "\\vdots \\\\\n",
    "\\frac{\\partial y}{\\partial A_{n1}} \\dots \\frac{\\partial y}{d A_{nn}} \n",
    "\\end{bmatrix} = \\begin{bmatrix}\n",
    "B_{11} \\dots B_{1n} \\\\\n",
    "\\vdots \\\\\n",
    "B_{n1} \\dots B_{nn}\n",
    "\\end{bmatrix} = B^T\n",
    "$$"
   ]
  },
  {
   "cell_type": "markdown",
   "metadata": {},
   "source": [
    "## Exercise 3"
   ]
  },
  {
   "cell_type": "markdown",
   "metadata": {},
   "source": [
    "$$  \n",
    "y = x^TAc , \\quad A\\in \\mathbb{R}^{N \\times N}, x\\in \\mathbb{R}^{N}, c\\in \\mathbb{R}^{N} \n",
    "$$"
   ]
  },
  {
   "cell_type": "markdown",
   "metadata": {},
   "source": [
    "Similar to exercise on\n",
    "\n",
    "$$\n",
    "\\frac{dy}{dx} = \\begin{bmatrix}\n",
    "\\frac{\\partial \\sum_{i,j=1}^n x_i A_{ij}c_j}{\\partial x_1} \\\\\n",
    "\\vdots \\\\\n",
    "\\frac{\\partial \\sum_{i,j=1}^n x_i A_{ij}c_j}{\\partial x_N}\n",
    "\\end{bmatrix}  =\n",
    "\\begin{bmatrix}\n",
    "\\sum_{j=1}^n A_{1j}c_j \\\\\n",
    "\\vdots \\\\\n",
    "\\sum_{j=1}^n A_{nj}c_j\n",
    "\\end{bmatrix}=Ac\n",
    "$$"
   ]
  },
  {
   "cell_type": "markdown",
   "metadata": {},
   "source": [
    "$$\n",
    "\\frac{dy}{dA} = \\begin{bmatrix}\n",
    "\\frac{\\partial y}{\\partial A_{11}} \\dots \\frac{\\partial y}{d A_{1n}} \\\\\n",
    "\\vdots \\\\\n",
    "\\frac{\\partial y}{\\partial A_{n1}} \\dots \\frac{\\partial y}{d A_{nn}} \n",
    "\\end{bmatrix} = x^Tc\n",
    "$$ "
   ]
  },
  {
   "cell_type": "markdown",
   "metadata": {},
   "source": [
    "Hint for the latter (one of the ways): use *ex. 2* result and the fact \n",
    "$$\n",
    "tr(ABC) = tr (CAB)\n",
    "$$"
   ]
  },
  {
   "cell_type": "markdown",
   "metadata": {},
   "source": [
    "## Exercise 4"
   ]
  },
  {
   "cell_type": "markdown",
   "metadata": {},
   "source": [
    "Classic matrix factorization example. Given matrix $X$ you need to find $A$, $S$ to approximate $X$. This can be done by simple gradient descent iteratively alternating $A$ and $S$ updates.\n",
    "$$\n",
    "J = || X - AS ||_F^2  , \\quad A\\in \\mathbb{R}^{N \\times R} , \\quad S\\in \\mathbb{R}^{R \\times M}\n",
    "$$\n",
    "$$\n",
    "\\frac{dJ}{dS} = ? \n",
    "$$\n",
    "\n",
    "You may use one of the following approaches:"
   ]
  },
  {
   "cell_type": "markdown",
   "metadata": {},
   "source": [
    "#### First approach\n",
    "Using ex.2 and the fact:\n",
    "$$\n",
    "|| X ||_F^2 = tr(XX^T) \n",
    "$$ \n",
    "it is easy to derive gradients (you can find it in one of the refs). "
   ]
  },
  {
   "cell_type": "markdown",
   "metadata": {},
   "source": [
    "#### Second approach\n",
    "You can use *slightly different techniques* if they suits you. Take a look at this derivation:\n",
    "<img src=\"grad.png\">\n",
    "\n",
    "(excerpt from [Handbook of blind source separation, Jutten, page 517](https://books.google.ru/books?id=PTbj03bYH6kC&printsec=frontcover&dq=Handbook+of+Blind+Source+Separation&hl=en&sa=X&ved=0ahUKEwi-q_apiJDLAhULvXIKHVXJDWcQ6AEIHDAA#v=onepage&q=Handbook%20of%20Blind%20Source%20Separation&f=false), open for better picture)."
   ]
  },
  {
   "cell_type": "markdown",
   "metadata": {},
   "source": [
    "#### Third approach\n",
    "And finally we can use chain rule! \n",
    "let $ F = AS $ \n",
    "\n",
    "**Find**\n",
    "$$\n",
    "\\frac{dJ}{dF} = \\frac{d tr(FF^T)}{d F} = \\begin{bmatrix}\n",
    "    \\frac{\\partial F_{11}^2}{\\partial F_{11}}\\dots \\frac{\\partial F_{n1}^2}{\\partial F_{1n}}\\\\\n",
    "    \\vdots  \\\\\n",
    "    \\frac{\\partial F_{n1}^2}{\\partial F_{n1}} \\dots  \\frac{\\partial F_{nn}^2}{\\partial F_{nn}} \n",
    "\\end{bmatrix} = 2F.\n",
    "$$ \n",
    "and \n",
    "$$\n",
    "\\frac{dF}{dS} = \\frac{d (X - AS)}{d S} = -A\n",
    "$$ \n",
    "(the shape should be $ NM \\times RM$).\n",
    "\n",
    "Now it is easy do get desired gradients:\n",
    "$$\n",
    "\\frac{dJ}{dS} =  2F \\cdot (-A) = (X - AS) \\cdot (-A) = ASA - AX   \n",
    "$$ "
   ]
  },
  {
   "cell_type": "markdown",
   "metadata": {
    "collapsed": true,
    "jupyter": {
     "outputs_hidden": true
    }
   },
   "source": [
    "## 2. kNN questions\n",
    "Here come the questions from the assignment0_01. Please, refer to the assignment0_01 to get the context of the questions."
   ]
  },
  {
   "attachments": {
    "image.png": {
     "image/png": "[encoded data removed]"
    }
   },
   "cell_type": "markdown",
   "metadata": {},
   "source": [
    "### Question 1\n",
    "\n",
    "Notice the structured patterns in the distance matrix, where some rows or columns are visible brighter. (Note that with the default color scheme black indicates low distances while white indicates high distances.)\n",
    "\n",
    "- What in the data is the cause behind the distinctly bright rows?\n",
    "- What causes the columns?\n",
    "\n",
    "*Your Answer:* Drastic white lines indicates presence of outlier in test data. This is it, some test points differs in sense of L2 from all points in training set. \n",
    "\n",
    "![image.png](attachment:image.png)\n",
    "\n",
    "\n"
   ]
  },
  {
   "cell_type": "markdown",
   "metadata": {},
   "source": [
    "### Question 2\n",
    "\n",
    "We can also use other distance metrics such as L1 distance.\n",
    "For pixel values $p_{ij}^{(k)}$ at location $(i,j)$ of some image $I_k$, \n",
    "\n",
    "the mean $\\mu$ across all pixels over all images is $$\\mu=\\frac{1}{nhw}\\sum_{k=1}^n\\sum_{i=1}^{h}\\sum_{j=1}^{w}p_{ij}^{(k)}$$\n",
    "And the pixel-wise mean $\\mu_{ij}$ across all images is \n",
    "$$\\mu_{ij}=\\frac{1}{n}\\sum_{k=1}^np_{ij}^{(k)}.$$\n",
    "The general standard deviation $\\sigma$ and pixel-wise standard deviation $\\sigma_{ij}$ is defined similarly.\n",
    "\n",
    "Which of the following preprocessing steps will not change the performance of a Nearest Neighbor classifier that uses L1 distance? Select all that apply.\n",
    "1. Subtracting the mean $\\mu$ ($\\tilde{p}_{ij}^{(k)}=p_{ij}^{(k)}-\\mu$.)\n",
    "2. Subtracting the per pixel mean $\\mu_{ij}$  ($\\tilde{p}_{ij}^{(k)}=p_{ij}^{(k)}-\\mu_{ij}$.)\n",
    "3. Subtracting the mean $\\mu$ and dividing by the standard deviation $\\sigma$.\n",
    "4. Subtracting the pixel-wise mean $\\mu_{ij}$ and dividing by the pixel-wise standard deviation $\\sigma_{ij}$.\n",
    "5. Rotating the coordinate axes of the data.\n",
    "\n",
    "*Your Answer:*  1,2,3,5\n",
    "\n",
    "*Your Explanation:*\n",
    "1. KNN is translation invariant due to it's mechanism depending on relative distance\n",
    "2. Similar to one. You just translate on coordinate.\n",
    "3. You scale space, so order of distance will remain same.\n",
    "4. Knn is sensitive to scaling of features, because mechanism is coordinate-free (manifold like). Therefore it's better standardize feature before using KNN. (However, i'm not sure about embeddings of NN. They may enjoy importance defined by encoder)\n",
    "5. KNN is rotation invariant due to it's mechanism depending on relative\n",
    "\n"
   ]
  },
  {
   "cell_type": "markdown",
   "metadata": {},
   "source": [
    "## Question 3\n",
    "\n",
    "Which of the following statements about $k$-Nearest Neighbor ($k$-NN) are true in a classification setting, and for all $k$? Select all that apply.\n",
    "1. The decision boundary (hyperplane between classes in feature space) of the k-NN classifier is linear.\n",
    "2. The training error of a 1-NN will always be lower than that of 5-NN.\n",
    "3. The test error of a 1-NN will always be lower than that of a 5-NN.\n",
    "4. The time needed to classify a test example with the k-NN classifier grows with the size of the training set.\n",
    "5. None of the above.\n",
    "\n",
    "*Your Answer:*\n",
    "2,4\n",
    "\n",
    "*Your Explanation:*\n",
    "1. Knn boundaries form tesselation known as Voronoi cells.\n",
    "2. Recall that distance between sample itself is 0. Therefore, closest neighbor will be exact point with right class. 1-NN will always be right. Auxillary points may confuse inference. \n",
    "3. Not always, more points better generalization. \n",
    "4. True, but really you don't need all points. See KD-trees and Approximate Nearest Neighbors. They are in core of modern vector stores.\n",
    "\n",
    "\n",
    "\n"
   ]
  }
 ],
 "metadata": {
  "kernelspec": {
   "display_name": "Python 3 (ipykernel)",
   "language": "python",
   "name": "python3"
  },
  "language_info": {
   "codemirror_mode": {
    "name": "ipython",
    "version": 3
   },
   "file_extension": ".py",
   "mimetype": "text/x-python",
   "name": "python",
   "nbconvert_exporter": "python",
   "pygments_lexer": "ipython3",
   "version": "3.12.1"
  }
 },
 "nbformat": 4,
 "nbformat_minor": 4
}
