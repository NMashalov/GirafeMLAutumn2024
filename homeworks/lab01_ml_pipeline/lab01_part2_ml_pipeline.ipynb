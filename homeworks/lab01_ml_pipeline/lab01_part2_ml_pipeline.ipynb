{
 "cells": [
  {
   "cell_type": "markdown",
   "metadata": {
    "nbgrader": {
     "grade": false,
     "grade_id": "cell-86e0de040aac317a",
     "locked": true,
     "schema_version": 2,
     "solution": false
    }
   },
   "source": [
    "# Lab assignment №1, part 2\n",
    "\n",
    "This lab assignment consists of several parts. You are supposed to make some transformations, train some models, estimate the quality of the models and explain your results.\n",
    "\n",
    "Several comments:\n",
    "* Don't hesitate to ask questions, it's a good practice.\n",
    "* No private/public sharing, please. The copied assignments will be graded with 0 points.\n",
    "* Blocks of this lab will be graded separately."
   ]
  },
  {
   "cell_type": "markdown",
   "metadata": {},
   "source": [
    "__*This is the second part of the assignment. First and third parts are waiting for you in the same directory.*__"
   ]
  },
  {
   "cell_type": "markdown",
   "metadata": {
    "nbgrader": {
     "grade": false,
     "grade_id": "cell-512ba712fc0fc065",
     "locked": true,
     "schema_version": 2,
     "solution": false
    }
   },
   "source": [
    "## Part 2. Data preprocessing, model training and evaluation."
   ]
  },
  {
   "cell_type": "markdown",
   "metadata": {
    "nbgrader": {
     "grade": false,
     "grade_id": "cell-b656a4266174b009",
     "locked": true,
     "schema_version": 2,
     "solution": false
    }
   },
   "source": [
    "### 1. Reading the data\n",
    "Today we work with the [dataset](https://archive.ics.uci.edu/ml/datasets/Statlog+%28Vehicle+Silhouettes%29), describing different cars for multiclass ($k=4$) classification problem. The data is available below."
   ]
  },
  {
   "cell_type": "code",
   "execution_count": 2,
   "metadata": {},
   "outputs": [
    {
     "name": "stdout",
     "output_type": "stream",
     "text": [
      "--2024-10-31 23:13:30--  https://raw.githubusercontent.com/girafe-ai/ml-course/22f_made/homeworks/lab01_ml_pipeline/car_data.csv\n",
      "Resolving raw.githubusercontent.com (raw.githubusercontent.com)... 185.199.109.133, 185.199.110.133, 185.199.111.133, ...\n",
      "Connecting to raw.githubusercontent.com (raw.githubusercontent.com)|185.199.109.133|:443... connected.\n",
      "HTTP request sent, awaiting response... 200 OK\n",
      "Length: 58374 (57K) [text/plain]\n",
      "Saving to: ‘car_data.csv.1’\n",
      "\n",
      "car_data.csv.1      100%[===================>]  57.01K  --.-KB/s    in 0.03s   \n",
      "\n",
      "2024-10-31 23:13:30 (2.16 MB/s) - ‘car_data.csv.1’ saved [58374/58374]\n",
      "\n"
     ]
    }
   ],
   "source": [
    "# If on colab, uncomment the following lines\n",
    "! wget https://raw.githubusercontent.com/girafe-ai/ml-course/22f_made/homeworks/lab01_ml_pipeline/car_data.csv"
   ]
  },
  {
   "cell_type": "code",
   "execution_count": 3,
   "metadata": {
    "nbgrader": {
     "grade": false,
     "grade_id": "cell-eebac6bfdf73d0bc",
     "locked": true,
     "schema_version": 2,
     "solution": false
    }
   },
   "outputs": [
    {
     "name": "stdout",
     "output_type": "stream",
     "text": [
      "(846, 19) (846,)\n",
      "(549, 19) (549,) (297, 19) (297,)\n"
     ]
    }
   ],
   "source": [
    "import pandas as pd\n",
    "import numpy as np\n",
    "from sklearn.model_selection import train_test_split\n",
    "\n",
    "dataset = pd.read_csv(\"car_data.csv\", delimiter=\",\", header=None).values\n",
    "data = dataset[:, :-1].astype(int)\n",
    "target = dataset[:, -1]\n",
    "\n",
    "print(data.shape, target.shape)\n",
    "\n",
    "X_train, X_test, y_train, y_test = train_test_split(data, target, test_size=0.35)\n",
    "print(X_train.shape, y_train.shape, X_test.shape, y_test.shape)"
   ]
  },
  {
   "cell_type": "markdown",
   "metadata": {
    "nbgrader": {
     "grade": false,
     "grade_id": "cell-88b1a0f688568f2c",
     "locked": true,
     "schema_version": 2,
     "solution": false
    }
   },
   "source": [
    "To get some insights about the dataset, `pandas` might be used. The `train` part is transformed to `pd.DataFrame` below."
   ]
  },
  {
   "cell_type": "code",
   "execution_count": 4,
   "metadata": {},
   "outputs": [
    {
     "data": {
      "text/html": [
       "<div>\n",
       "<style scoped>\n",
       "    .dataframe tbody tr th:only-of-type {\n",
       "        vertical-align: middle;\n",
       "    }\n",
       "\n",
       "    .dataframe tbody tr th {\n",
       "        vertical-align: top;\n",
       "    }\n",
       "\n",
       "    .dataframe thead th {\n",
       "        text-align: right;\n",
       "    }\n",
       "</style>\n",
       "<table border=\"1\" class=\"dataframe\">\n",
       "  <thead>\n",
       "    <tr style=\"text-align: right;\">\n",
       "      <th></th>\n",
       "      <th>0</th>\n",
       "      <th>1</th>\n",
       "      <th>2</th>\n",
       "      <th>3</th>\n",
       "      <th>4</th>\n",
       "      <th>5</th>\n",
       "      <th>6</th>\n",
       "      <th>7</th>\n",
       "      <th>8</th>\n",
       "      <th>9</th>\n",
       "      <th>10</th>\n",
       "      <th>11</th>\n",
       "      <th>12</th>\n",
       "      <th>13</th>\n",
       "      <th>14</th>\n",
       "      <th>15</th>\n",
       "      <th>16</th>\n",
       "      <th>17</th>\n",
       "      <th>18</th>\n",
       "    </tr>\n",
       "  </thead>\n",
       "  <tbody>\n",
       "    <tr>\n",
       "      <th>0</th>\n",
       "      <td>215</td>\n",
       "      <td>90</td>\n",
       "      <td>39</td>\n",
       "      <td>86</td>\n",
       "      <td>169</td>\n",
       "      <td>62</td>\n",
       "      <td>7</td>\n",
       "      <td>162</td>\n",
       "      <td>41</td>\n",
       "      <td>20</td>\n",
       "      <td>131</td>\n",
       "      <td>194</td>\n",
       "      <td>388</td>\n",
       "      <td>147</td>\n",
       "      <td>74</td>\n",
       "      <td>1</td>\n",
       "      <td>22</td>\n",
       "      <td>185</td>\n",
       "      <td>191</td>\n",
       "    </tr>\n",
       "    <tr>\n",
       "      <th>1</th>\n",
       "      <td>535</td>\n",
       "      <td>98</td>\n",
       "      <td>44</td>\n",
       "      <td>88</td>\n",
       "      <td>176</td>\n",
       "      <td>67</td>\n",
       "      <td>10</td>\n",
       "      <td>158</td>\n",
       "      <td>43</td>\n",
       "      <td>20</td>\n",
       "      <td>149</td>\n",
       "      <td>173</td>\n",
       "      <td>367</td>\n",
       "      <td>154</td>\n",
       "      <td>66</td>\n",
       "      <td>14</td>\n",
       "      <td>9</td>\n",
       "      <td>194</td>\n",
       "      <td>202</td>\n",
       "    </tr>\n",
       "    <tr>\n",
       "      <th>2</th>\n",
       "      <td>763</td>\n",
       "      <td>102</td>\n",
       "      <td>52</td>\n",
       "      <td>98</td>\n",
       "      <td>225</td>\n",
       "      <td>71</td>\n",
       "      <td>10</td>\n",
       "      <td>214</td>\n",
       "      <td>31</td>\n",
       "      <td>24</td>\n",
       "      <td>164</td>\n",
       "      <td>228</td>\n",
       "      <td>682</td>\n",
       "      <td>199</td>\n",
       "      <td>71</td>\n",
       "      <td>0</td>\n",
       "      <td>16</td>\n",
       "      <td>187</td>\n",
       "      <td>196</td>\n",
       "    </tr>\n",
       "    <tr>\n",
       "      <th>3</th>\n",
       "      <td>650</td>\n",
       "      <td>98</td>\n",
       "      <td>55</td>\n",
       "      <td>104</td>\n",
       "      <td>213</td>\n",
       "      <td>67</td>\n",
       "      <td>9</td>\n",
       "      <td>206</td>\n",
       "      <td>32</td>\n",
       "      <td>23</td>\n",
       "      <td>167</td>\n",
       "      <td>223</td>\n",
       "      <td>629</td>\n",
       "      <td>220</td>\n",
       "      <td>72</td>\n",
       "      <td>5</td>\n",
       "      <td>19</td>\n",
       "      <td>187</td>\n",
       "      <td>196</td>\n",
       "    </tr>\n",
       "    <tr>\n",
       "      <th>4</th>\n",
       "      <td>136</td>\n",
       "      <td>86</td>\n",
       "      <td>48</td>\n",
       "      <td>75</td>\n",
       "      <td>136</td>\n",
       "      <td>58</td>\n",
       "      <td>10</td>\n",
       "      <td>161</td>\n",
       "      <td>43</td>\n",
       "      <td>20</td>\n",
       "      <td>163</td>\n",
       "      <td>170</td>\n",
       "      <td>371</td>\n",
       "      <td>185</td>\n",
       "      <td>75</td>\n",
       "      <td>3</td>\n",
       "      <td>1</td>\n",
       "      <td>183</td>\n",
       "      <td>192</td>\n",
       "    </tr>\n",
       "    <tr>\n",
       "      <th>5</th>\n",
       "      <td>77</td>\n",
       "      <td>86</td>\n",
       "      <td>40</td>\n",
       "      <td>62</td>\n",
       "      <td>140</td>\n",
       "      <td>62</td>\n",
       "      <td>7</td>\n",
       "      <td>150</td>\n",
       "      <td>45</td>\n",
       "      <td>19</td>\n",
       "      <td>133</td>\n",
       "      <td>165</td>\n",
       "      <td>330</td>\n",
       "      <td>173</td>\n",
       "      <td>82</td>\n",
       "      <td>2</td>\n",
       "      <td>3</td>\n",
       "      <td>180</td>\n",
       "      <td>185</td>\n",
       "    </tr>\n",
       "    <tr>\n",
       "      <th>6</th>\n",
       "      <td>207</td>\n",
       "      <td>85</td>\n",
       "      <td>42</td>\n",
       "      <td>64</td>\n",
       "      <td>121</td>\n",
       "      <td>55</td>\n",
       "      <td>7</td>\n",
       "      <td>149</td>\n",
       "      <td>46</td>\n",
       "      <td>19</td>\n",
       "      <td>146</td>\n",
       "      <td>167</td>\n",
       "      <td>323</td>\n",
       "      <td>172</td>\n",
       "      <td>85</td>\n",
       "      <td>1</td>\n",
       "      <td>6</td>\n",
       "      <td>179</td>\n",
       "      <td>182</td>\n",
       "    </tr>\n",
       "    <tr>\n",
       "      <th>7</th>\n",
       "      <td>241</td>\n",
       "      <td>93</td>\n",
       "      <td>45</td>\n",
       "      <td>73</td>\n",
       "      <td>164</td>\n",
       "      <td>59</td>\n",
       "      <td>7</td>\n",
       "      <td>159</td>\n",
       "      <td>42</td>\n",
       "      <td>20</td>\n",
       "      <td>146</td>\n",
       "      <td>182</td>\n",
       "      <td>379</td>\n",
       "      <td>188</td>\n",
       "      <td>65</td>\n",
       "      <td>11</td>\n",
       "      <td>15</td>\n",
       "      <td>195</td>\n",
       "      <td>201</td>\n",
       "    </tr>\n",
       "    <tr>\n",
       "      <th>8</th>\n",
       "      <td>807</td>\n",
       "      <td>103</td>\n",
       "      <td>51</td>\n",
       "      <td>105</td>\n",
       "      <td>174</td>\n",
       "      <td>56</td>\n",
       "      <td>11</td>\n",
       "      <td>210</td>\n",
       "      <td>32</td>\n",
       "      <td>24</td>\n",
       "      <td>163</td>\n",
       "      <td>222</td>\n",
       "      <td>650</td>\n",
       "      <td>222</td>\n",
       "      <td>73</td>\n",
       "      <td>8</td>\n",
       "      <td>9</td>\n",
       "      <td>187</td>\n",
       "      <td>196</td>\n",
       "    </tr>\n",
       "    <tr>\n",
       "      <th>9</th>\n",
       "      <td>527</td>\n",
       "      <td>109</td>\n",
       "      <td>49</td>\n",
       "      <td>103</td>\n",
       "      <td>186</td>\n",
       "      <td>57</td>\n",
       "      <td>11</td>\n",
       "      <td>206</td>\n",
       "      <td>32</td>\n",
       "      <td>23</td>\n",
       "      <td>156</td>\n",
       "      <td>212</td>\n",
       "      <td>630</td>\n",
       "      <td>186</td>\n",
       "      <td>65</td>\n",
       "      <td>12</td>\n",
       "      <td>21</td>\n",
       "      <td>192</td>\n",
       "      <td>201</td>\n",
       "    </tr>\n",
       "    <tr>\n",
       "      <th>10</th>\n",
       "      <td>463</td>\n",
       "      <td>85</td>\n",
       "      <td>40</td>\n",
       "      <td>66</td>\n",
       "      <td>121</td>\n",
       "      <td>52</td>\n",
       "      <td>4</td>\n",
       "      <td>152</td>\n",
       "      <td>44</td>\n",
       "      <td>19</td>\n",
       "      <td>133</td>\n",
       "      <td>170</td>\n",
       "      <td>340</td>\n",
       "      <td>163</td>\n",
       "      <td>87</td>\n",
       "      <td>13</td>\n",
       "      <td>3</td>\n",
       "      <td>180</td>\n",
       "      <td>183</td>\n",
       "    </tr>\n",
       "    <tr>\n",
       "      <th>11</th>\n",
       "      <td>268</td>\n",
       "      <td>86</td>\n",
       "      <td>39</td>\n",
       "      <td>60</td>\n",
       "      <td>140</td>\n",
       "      <td>60</td>\n",
       "      <td>7</td>\n",
       "      <td>119</td>\n",
       "      <td>55</td>\n",
       "      <td>17</td>\n",
       "      <td>134</td>\n",
       "      <td>140</td>\n",
       "      <td>212</td>\n",
       "      <td>141</td>\n",
       "      <td>61</td>\n",
       "      <td>7</td>\n",
       "      <td>8</td>\n",
       "      <td>200</td>\n",
       "      <td>207</td>\n",
       "    </tr>\n",
       "    <tr>\n",
       "      <th>12</th>\n",
       "      <td>508</td>\n",
       "      <td>95</td>\n",
       "      <td>46</td>\n",
       "      <td>92</td>\n",
       "      <td>159</td>\n",
       "      <td>63</td>\n",
       "      <td>11</td>\n",
       "      <td>160</td>\n",
       "      <td>42</td>\n",
       "      <td>20</td>\n",
       "      <td>157</td>\n",
       "      <td>176</td>\n",
       "      <td>372</td>\n",
       "      <td>171</td>\n",
       "      <td>70</td>\n",
       "      <td>7</td>\n",
       "      <td>21</td>\n",
       "      <td>189</td>\n",
       "      <td>200</td>\n",
       "    </tr>\n",
       "    <tr>\n",
       "      <th>13</th>\n",
       "      <td>773</td>\n",
       "      <td>87</td>\n",
       "      <td>42</td>\n",
       "      <td>70</td>\n",
       "      <td>139</td>\n",
       "      <td>59</td>\n",
       "      <td>7</td>\n",
       "      <td>149</td>\n",
       "      <td>45</td>\n",
       "      <td>19</td>\n",
       "      <td>142</td>\n",
       "      <td>177</td>\n",
       "      <td>327</td>\n",
       "      <td>156</td>\n",
       "      <td>78</td>\n",
       "      <td>6</td>\n",
       "      <td>9</td>\n",
       "      <td>185</td>\n",
       "      <td>188</td>\n",
       "    </tr>\n",
       "    <tr>\n",
       "      <th>14</th>\n",
       "      <td>270</td>\n",
       "      <td>82</td>\n",
       "      <td>45</td>\n",
       "      <td>68</td>\n",
       "      <td>150</td>\n",
       "      <td>69</td>\n",
       "      <td>5</td>\n",
       "      <td>148</td>\n",
       "      <td>45</td>\n",
       "      <td>19</td>\n",
       "      <td>144</td>\n",
       "      <td>169</td>\n",
       "      <td>322</td>\n",
       "      <td>184</td>\n",
       "      <td>80</td>\n",
       "      <td>5</td>\n",
       "      <td>0</td>\n",
       "      <td>181</td>\n",
       "      <td>184</td>\n",
       "    </tr>\n",
       "  </tbody>\n",
       "</table>\n",
       "</div>"
      ],
      "text/plain": [
       "     0    1   2    3    4   5   6    7   8   9    10   11   12   13  14  15  \\\n",
       "0   215   90  39   86  169  62   7  162  41  20  131  194  388  147  74   1   \n",
       "1   535   98  44   88  176  67  10  158  43  20  149  173  367  154  66  14   \n",
       "2   763  102  52   98  225  71  10  214  31  24  164  228  682  199  71   0   \n",
       "3   650   98  55  104  213  67   9  206  32  23  167  223  629  220  72   5   \n",
       "4   136   86  48   75  136  58  10  161  43  20  163  170  371  185  75   3   \n",
       "5    77   86  40   62  140  62   7  150  45  19  133  165  330  173  82   2   \n",
       "6   207   85  42   64  121  55   7  149  46  19  146  167  323  172  85   1   \n",
       "7   241   93  45   73  164  59   7  159  42  20  146  182  379  188  65  11   \n",
       "8   807  103  51  105  174  56  11  210  32  24  163  222  650  222  73   8   \n",
       "9   527  109  49  103  186  57  11  206  32  23  156  212  630  186  65  12   \n",
       "10  463   85  40   66  121  52   4  152  44  19  133  170  340  163  87  13   \n",
       "11  268   86  39   60  140  60   7  119  55  17  134  140  212  141  61   7   \n",
       "12  508   95  46   92  159  63  11  160  42  20  157  176  372  171  70   7   \n",
       "13  773   87  42   70  139  59   7  149  45  19  142  177  327  156  78   6   \n",
       "14  270   82  45   68  150  69   5  148  45  19  144  169  322  184  80   5   \n",
       "\n",
       "    16   17   18  \n",
       "0   22  185  191  \n",
       "1    9  194  202  \n",
       "2   16  187  196  \n",
       "3   19  187  196  \n",
       "4    1  183  192  \n",
       "5    3  180  185  \n",
       "6    6  179  182  \n",
       "7   15  195  201  \n",
       "8    9  187  196  \n",
       "9   21  192  201  \n",
       "10   3  180  183  \n",
       "11   8  200  207  \n",
       "12  21  189  200  \n",
       "13   9  185  188  \n",
       "14   0  181  184  "
      ]
     },
     "execution_count": 4,
     "metadata": {},
     "output_type": "execute_result"
    }
   ],
   "source": [
    "X_train_pd = pd.DataFrame(X_train)\n",
    "\n",
    "# First 15 rows of our dataset.\n",
    "X_train_pd.head(15)"
   ]
  },
  {
   "cell_type": "markdown",
   "metadata": {
    "nbgrader": {
     "grade": false,
     "grade_id": "cell-98e7d91d77d65fcf",
     "locked": true,
     "schema_version": 2,
     "solution": false
    }
   },
   "source": [
    "Methods `describe` and `info` deliver some useful information."
   ]
  },
  {
   "cell_type": "code",
   "execution_count": 5,
   "metadata": {},
   "outputs": [
    {
     "data": {
      "text/html": [
       "<div>\n",
       "<style scoped>\n",
       "    .dataframe tbody tr th:only-of-type {\n",
       "        vertical-align: middle;\n",
       "    }\n",
       "\n",
       "    .dataframe tbody tr th {\n",
       "        vertical-align: top;\n",
       "    }\n",
       "\n",
       "    .dataframe thead th {\n",
       "        text-align: right;\n",
       "    }\n",
       "</style>\n",
       "<table border=\"1\" class=\"dataframe\">\n",
       "  <thead>\n",
       "    <tr style=\"text-align: right;\">\n",
       "      <th></th>\n",
       "      <th>0</th>\n",
       "      <th>1</th>\n",
       "      <th>2</th>\n",
       "      <th>3</th>\n",
       "      <th>4</th>\n",
       "      <th>5</th>\n",
       "      <th>6</th>\n",
       "      <th>7</th>\n",
       "      <th>8</th>\n",
       "      <th>9</th>\n",
       "      <th>10</th>\n",
       "      <th>11</th>\n",
       "      <th>12</th>\n",
       "      <th>13</th>\n",
       "      <th>14</th>\n",
       "      <th>15</th>\n",
       "      <th>16</th>\n",
       "      <th>17</th>\n",
       "      <th>18</th>\n",
       "    </tr>\n",
       "  </thead>\n",
       "  <tbody>\n",
       "    <tr>\n",
       "      <th>count</th>\n",
       "      <td>549.000000</td>\n",
       "      <td>549.000000</td>\n",
       "      <td>549.000000</td>\n",
       "      <td>549.000000</td>\n",
       "      <td>549.000000</td>\n",
       "      <td>549.000000</td>\n",
       "      <td>549.000000</td>\n",
       "      <td>549.000000</td>\n",
       "      <td>549.000000</td>\n",
       "      <td>549.000000</td>\n",
       "      <td>549.000000</td>\n",
       "      <td>549.000000</td>\n",
       "      <td>549.000000</td>\n",
       "      <td>549.000000</td>\n",
       "      <td>549.000000</td>\n",
       "      <td>549.000000</td>\n",
       "      <td>549.000000</td>\n",
       "      <td>549.000000</td>\n",
       "      <td>549.000000</td>\n",
       "    </tr>\n",
       "    <tr>\n",
       "      <th>mean</th>\n",
       "      <td>413.449909</td>\n",
       "      <td>93.755920</td>\n",
       "      <td>45.112933</td>\n",
       "      <td>82.714026</td>\n",
       "      <td>169.036430</td>\n",
       "      <td>61.499089</td>\n",
       "      <td>8.526412</td>\n",
       "      <td>169.996357</td>\n",
       "      <td>40.697632</td>\n",
       "      <td>20.672131</td>\n",
       "      <td>148.577413</td>\n",
       "      <td>189.471767</td>\n",
       "      <td>446.080146</td>\n",
       "      <td>176.087432</td>\n",
       "      <td>72.400729</td>\n",
       "      <td>6.440801</td>\n",
       "      <td>12.586521</td>\n",
       "      <td>188.763206</td>\n",
       "      <td>195.571949</td>\n",
       "    </tr>\n",
       "    <tr>\n",
       "      <th>std</th>\n",
       "      <td>244.496301</td>\n",
       "      <td>8.306327</td>\n",
       "      <td>6.282724</td>\n",
       "      <td>15.759258</td>\n",
       "      <td>33.463055</td>\n",
       "      <td>7.706909</td>\n",
       "      <td>4.081037</td>\n",
       "      <td>33.712124</td>\n",
       "      <td>7.862157</td>\n",
       "      <td>2.639185</td>\n",
       "      <td>14.719268</td>\n",
       "      <td>31.407750</td>\n",
       "      <td>179.629792</td>\n",
       "      <td>33.187858</td>\n",
       "      <td>7.101948</td>\n",
       "      <td>4.990379</td>\n",
       "      <td>8.925599</td>\n",
       "      <td>6.103011</td>\n",
       "      <td>7.403689</td>\n",
       "    </tr>\n",
       "    <tr>\n",
       "      <th>min</th>\n",
       "      <td>1.000000</td>\n",
       "      <td>73.000000</td>\n",
       "      <td>33.000000</td>\n",
       "      <td>40.000000</td>\n",
       "      <td>104.000000</td>\n",
       "      <td>47.000000</td>\n",
       "      <td>2.000000</td>\n",
       "      <td>112.000000</td>\n",
       "      <td>26.000000</td>\n",
       "      <td>17.000000</td>\n",
       "      <td>118.000000</td>\n",
       "      <td>130.000000</td>\n",
       "      <td>184.000000</td>\n",
       "      <td>112.000000</td>\n",
       "      <td>59.000000</td>\n",
       "      <td>0.000000</td>\n",
       "      <td>0.000000</td>\n",
       "      <td>176.000000</td>\n",
       "      <td>181.000000</td>\n",
       "    </tr>\n",
       "    <tr>\n",
       "      <th>25%</th>\n",
       "      <td>208.000000</td>\n",
       "      <td>87.000000</td>\n",
       "      <td>40.000000</td>\n",
       "      <td>70.000000</td>\n",
       "      <td>141.000000</td>\n",
       "      <td>57.000000</td>\n",
       "      <td>7.000000</td>\n",
       "      <td>147.000000</td>\n",
       "      <td>33.000000</td>\n",
       "      <td>19.000000</td>\n",
       "      <td>137.000000</td>\n",
       "      <td>168.000000</td>\n",
       "      <td>320.000000</td>\n",
       "      <td>149.000000</td>\n",
       "      <td>67.000000</td>\n",
       "      <td>2.000000</td>\n",
       "      <td>5.000000</td>\n",
       "      <td>184.000000</td>\n",
       "      <td>190.000000</td>\n",
       "    </tr>\n",
       "    <tr>\n",
       "      <th>50%</th>\n",
       "      <td>403.000000</td>\n",
       "      <td>93.000000</td>\n",
       "      <td>45.000000</td>\n",
       "      <td>80.000000</td>\n",
       "      <td>166.000000</td>\n",
       "      <td>61.000000</td>\n",
       "      <td>8.000000</td>\n",
       "      <td>157.000000</td>\n",
       "      <td>43.000000</td>\n",
       "      <td>20.000000</td>\n",
       "      <td>146.000000</td>\n",
       "      <td>179.000000</td>\n",
       "      <td>364.000000</td>\n",
       "      <td>175.000000</td>\n",
       "      <td>72.000000</td>\n",
       "      <td>6.000000</td>\n",
       "      <td>11.000000</td>\n",
       "      <td>188.000000</td>\n",
       "      <td>196.000000</td>\n",
       "    </tr>\n",
       "    <tr>\n",
       "      <th>75%</th>\n",
       "      <td>623.000000</td>\n",
       "      <td>100.000000</td>\n",
       "      <td>50.000000</td>\n",
       "      <td>98.000000</td>\n",
       "      <td>195.000000</td>\n",
       "      <td>65.000000</td>\n",
       "      <td>10.000000</td>\n",
       "      <td>201.000000</td>\n",
       "      <td>46.000000</td>\n",
       "      <td>23.000000</td>\n",
       "      <td>161.000000</td>\n",
       "      <td>218.000000</td>\n",
       "      <td>605.000000</td>\n",
       "      <td>200.000000</td>\n",
       "      <td>75.000000</td>\n",
       "      <td>9.000000</td>\n",
       "      <td>19.000000</td>\n",
       "      <td>193.000000</td>\n",
       "      <td>201.000000</td>\n",
       "    </tr>\n",
       "    <tr>\n",
       "      <th>max</th>\n",
       "      <td>844.000000</td>\n",
       "      <td>119.000000</td>\n",
       "      <td>59.000000</td>\n",
       "      <td>112.000000</td>\n",
       "      <td>322.000000</td>\n",
       "      <td>133.000000</td>\n",
       "      <td>52.000000</td>\n",
       "      <td>265.000000</td>\n",
       "      <td>61.000000</td>\n",
       "      <td>29.000000</td>\n",
       "      <td>188.000000</td>\n",
       "      <td>287.000000</td>\n",
       "      <td>1018.000000</td>\n",
       "      <td>264.000000</td>\n",
       "      <td>119.000000</td>\n",
       "      <td>22.000000</td>\n",
       "      <td>41.000000</td>\n",
       "      <td>206.000000</td>\n",
       "      <td>211.000000</td>\n",
       "    </tr>\n",
       "  </tbody>\n",
       "</table>\n",
       "</div>"
      ],
      "text/plain": [
       "               0           1           2           3           4           5   \\\n",
       "count  549.000000  549.000000  549.000000  549.000000  549.000000  549.000000   \n",
       "mean   413.449909   93.755920   45.112933   82.714026  169.036430   61.499089   \n",
       "std    244.496301    8.306327    6.282724   15.759258   33.463055    7.706909   \n",
       "min      1.000000   73.000000   33.000000   40.000000  104.000000   47.000000   \n",
       "25%    208.000000   87.000000   40.000000   70.000000  141.000000   57.000000   \n",
       "50%    403.000000   93.000000   45.000000   80.000000  166.000000   61.000000   \n",
       "75%    623.000000  100.000000   50.000000   98.000000  195.000000   65.000000   \n",
       "max    844.000000  119.000000   59.000000  112.000000  322.000000  133.000000   \n",
       "\n",
       "               6           7           8           9           10          11  \\\n",
       "count  549.000000  549.000000  549.000000  549.000000  549.000000  549.000000   \n",
       "mean     8.526412  169.996357   40.697632   20.672131  148.577413  189.471767   \n",
       "std      4.081037   33.712124    7.862157    2.639185   14.719268   31.407750   \n",
       "min      2.000000  112.000000   26.000000   17.000000  118.000000  130.000000   \n",
       "25%      7.000000  147.000000   33.000000   19.000000  137.000000  168.000000   \n",
       "50%      8.000000  157.000000   43.000000   20.000000  146.000000  179.000000   \n",
       "75%     10.000000  201.000000   46.000000   23.000000  161.000000  218.000000   \n",
       "max     52.000000  265.000000   61.000000   29.000000  188.000000  287.000000   \n",
       "\n",
       "                12          13          14          15          16  \\\n",
       "count   549.000000  549.000000  549.000000  549.000000  549.000000   \n",
       "mean    446.080146  176.087432   72.400729    6.440801   12.586521   \n",
       "std     179.629792   33.187858    7.101948    4.990379    8.925599   \n",
       "min     184.000000  112.000000   59.000000    0.000000    0.000000   \n",
       "25%     320.000000  149.000000   67.000000    2.000000    5.000000   \n",
       "50%     364.000000  175.000000   72.000000    6.000000   11.000000   \n",
       "75%     605.000000  200.000000   75.000000    9.000000   19.000000   \n",
       "max    1018.000000  264.000000  119.000000   22.000000   41.000000   \n",
       "\n",
       "               17          18  \n",
       "count  549.000000  549.000000  \n",
       "mean   188.763206  195.571949  \n",
       "std      6.103011    7.403689  \n",
       "min    176.000000  181.000000  \n",
       "25%    184.000000  190.000000  \n",
       "50%    188.000000  196.000000  \n",
       "75%    193.000000  201.000000  \n",
       "max    206.000000  211.000000  "
      ]
     },
     "execution_count": 5,
     "metadata": {},
     "output_type": "execute_result"
    }
   ],
   "source": [
    "X_train_pd.describe()"
   ]
  },
  {
   "cell_type": "code",
   "execution_count": 6,
   "metadata": {},
   "outputs": [
    {
     "name": "stdout",
     "output_type": "stream",
     "text": [
      "<class 'pandas.core.frame.DataFrame'>\n",
      "RangeIndex: 549 entries, 0 to 548\n",
      "Data columns (total 19 columns):\n",
      " #   Column  Non-Null Count  Dtype\n",
      "---  ------  --------------  -----\n",
      " 0   0       549 non-null    int64\n",
      " 1   1       549 non-null    int64\n",
      " 2   2       549 non-null    int64\n",
      " 3   3       549 non-null    int64\n",
      " 4   4       549 non-null    int64\n",
      " 5   5       549 non-null    int64\n",
      " 6   6       549 non-null    int64\n",
      " 7   7       549 non-null    int64\n",
      " 8   8       549 non-null    int64\n",
      " 9   9       549 non-null    int64\n",
      " 10  10      549 non-null    int64\n",
      " 11  11      549 non-null    int64\n",
      " 12  12      549 non-null    int64\n",
      " 13  13      549 non-null    int64\n",
      " 14  14      549 non-null    int64\n",
      " 15  15      549 non-null    int64\n",
      " 16  16      549 non-null    int64\n",
      " 17  17      549 non-null    int64\n",
      " 18  18      549 non-null    int64\n",
      "dtypes: int64(19)\n",
      "memory usage: 81.6 KB\n"
     ]
    }
   ],
   "source": [
    "X_train_pd.info()"
   ]
  },
  {
   "cell_type": "markdown",
   "metadata": {
    "nbgrader": {
     "grade": false,
     "grade_id": "cell-be844269be69c387",
     "locked": true,
     "schema_version": 2,
     "solution": false
    }
   },
   "source": [
    "### 2. Machine Learning pipeline\n",
    "Here you are supposed to perform the desired transformations. Please, explain your results briefly after each task."
   ]
  },
  {
   "cell_type": "markdown",
   "metadata": {},
   "source": [
    "#### 2.0. Data preprocessing\n",
    "* Make some transformations of the dataset (if necessary). Briefly explain the transformations"
   ]
  },
  {
   "cell_type": "code",
   "execution_count": 7,
   "metadata": {
    "nbgrader": {
     "grade": true,
     "grade_id": "cell-a1514aa189a49fca",
     "locked": false,
     "points": 15,
     "schema_version": 2,
     "solution": true
    }
   },
   "outputs": [],
   "source": [
    "### YOUR CODE HERE\n",
    "# feature normalization due to l2 penalty\n",
    "from sklearn.preprocessing import StandardScaler\n",
    "\n",
    "scaler = StandardScaler().fit(X_train_pd)"
   ]
  },
  {
   "cell_type": "markdown",
   "metadata": {},
   "source": [
    "#### 2.1. Basic logistic regression\n",
    "* Find optimal hyperparameters for logistic regression with cross-validation on the `train` data (small grid/random search is enough, no need to find the *best* parameters).\n",
    "\n",
    "* Estimate the model quality with `f1` and `accuracy` scores.\n",
    "* Plot a ROC-curve for the trained model. For the multiclass case you might use `scikitplot` library (e.g. `scikitplot.metrics.plot_roc(test_labels, predicted_proba)`).\n",
    "\n",
    "*Note: please, use the following hyperparameters for logistic regression: `multi_class='multinomial'`, `solver='saga'` `tol=1e-3` and ` max_iter=500`.*"
   ]
  },
  {
   "cell_type": "code",
   "execution_count": 8,
   "metadata": {
    "nbgrader": {
     "grade": true,
     "grade_id": "cell-1dd5ad5d0845cbbb",
     "locked": false,
     "points": 5,
     "schema_version": 2,
     "solution": true
    }
   },
   "outputs": [
    {
     "name": "stdout",
     "output_type": "stream",
     "text": [
      "hyperparameter(regularization_type=0.1, c_parameter='l1') metrics(accuracy_mean=np.float64(0.7013177648040032), accuracy_std=np.float64(0.028551625434861894), f1_mean=np.float64(0.6968382216028759), f1_std=np.float64(0.03162031210492319))\n",
      "hyperparameter(regularization_type=0.1, c_parameter='l2') metrics(accuracy_mean=np.float64(0.7432026688907423), accuracy_std=np.float64(0.017150754396164522), f1_mean=np.float64(0.7420262495787523), f1_std=np.float64(0.016552842521742717))\n",
      "hyperparameter(regularization_type=1, c_parameter='l1') metrics(accuracy_mean=np.float64(0.7996497080900751), accuracy_std=np.float64(0.013873319044476532), f1_mean=np.float64(0.8046675361485291), f1_std=np.float64(0.013823263244287757))\n",
      "hyperparameter(regularization_type=1, c_parameter='l2') metrics(accuracy_mean=np.float64(0.790492076730609), accuracy_std=np.float64(0.015724653062077678), f1_mean=np.float64(0.7951002462206159), f1_std=np.float64(0.015357757100017263))\n",
      "hyperparameter(regularization_type=10, c_parameter='l1') metrics(accuracy_mean=np.float64(0.8142452043369474), accuracy_std=np.float64(0.023152086386523274), f1_mean=np.float64(0.8193121155278622), f1_std=np.float64(0.023614851553934987))\n",
      "hyperparameter(regularization_type=10, c_parameter='l2') metrics(accuracy_mean=np.float64(0.8105921601334446), accuracy_std=np.float64(0.019998671353564042), f1_mean=np.float64(0.8152315716138855), f1_std=np.float64(0.020194565551280724))\n"
     ]
    }
   ],
   "source": [
    "### YOUR CODE HERE\n",
    "from sklearn.linear_model import LogisticRegression\n",
    "from sklearn.model_selection import cross_validate\n",
    "from sklearn.metrics import f1_score, accuracy_score\n",
    "from sklearn.pipeline import Pipeline\n",
    "from collections import namedtuple\n",
    "from itertools import product\n",
    "from typing import Literal\n",
    "\n",
    "metrics = namedtuple(\"metrics\", [\"accuracy_mean\", \"accuracy_std\", \"f1_mean\", \"f1_std\"])\n",
    "hyperparameter = namedtuple(\"hyperparameter\", [\"regularization_type\", \"c_parameter\"])\n",
    "regularization_types = [\"l1\", \"l2\"]\n",
    "c_parameters = [0.1, 1, 10]\n",
    "\n",
    "\n",
    "def model_class(regularization_type: Literal[\"l1\", \"l2\"], c: float):\n",
    "    return Pipeline(\n",
    "        [\n",
    "            (\"scaler\", StandardScaler()),\n",
    "            (\n",
    "                \"lr\",\n",
    "                LogisticRegression(\n",
    "                    solver=\"saga\",\n",
    "                    tol=1e-3,\n",
    "                    max_iter=500,\n",
    "                    penalty=regularization_type,\n",
    "                    C=c,\n",
    "                ),\n",
    "            ),\n",
    "        ]\n",
    "    )\n",
    "\n",
    "\n",
    "def parameter_search(model_class, regularization_types, c_parameters):\n",
    "    for c, regularization_type in product(c_parameters, regularization_types):\n",
    "        results = cross_validate(\n",
    "            model_class(regularization_type, c),\n",
    "            X_train,\n",
    "            y_train,\n",
    "            scoring=[\"accuracy\", \"f1_macro\"],\n",
    "        )\n",
    "        print(\n",
    "            hyperparameter(c, regularization_type),\n",
    "            metrics(\n",
    "                np.mean(results[\"test_accuracy\"]),\n",
    "                np.std(results[\"test_accuracy\"]),\n",
    "                np.mean(results[\"test_f1_macro\"]),\n",
    "                np.std(results[\"test_f1_macro\"]),\n",
    "            ),\n",
    "        )\n",
    "\n",
    "\n",
    "parameter_search(\n",
    "    model_class, regularization_types=regularization_types, c_parameters=c_parameters\n",
    ")"
   ]
  },
  {
   "cell_type": "code",
   "execution_count": 9,
   "metadata": {},
   "outputs": [],
   "source": [
    "best_model = model_class(regularization_type=\"l1\", c=10).fit(X_train, y_train)\n",
    "test_predictions = best_model.predict_proba(X_test)"
   ]
  },
  {
   "cell_type": "code",
   "execution_count": 10,
   "metadata": {},
   "outputs": [
    {
     "data": {
      "text/plain": [
       "Text(0.5, 1.0, 'OneVsOthers')"
      ]
     },
     "execution_count": 10,
     "metadata": {},
     "output_type": "execute_result"
    },
    {
     "data": {
      "image/png": "[encoded data removed]",
      "text/plain": [
       "<Figure size 640x480 with 1 Axes>"
      ]
     },
     "metadata": {},
     "output_type": "display_data"
    }
   ],
   "source": [
    "from sklearn.metrics import roc_curve\n",
    "import matplotlib.pyplot as plt\n",
    "\n",
    "# one vs other\n",
    "for i, label in enumerate(best_model[\"lr\"].classes_):\n",
    "    fpr, tpr, _ = roc_curve(y_test == label, test_predictions[:, i])\n",
    "    plt.plot(fpr, tpr, label=label)\n",
    "plt.legend()\n",
    "plt.title(\"OneVsOthers\")"
   ]
  },
  {
   "cell_type": "code",
   "execution_count": 11,
   "metadata": {},
   "outputs": [],
   "source": [
    "# You might use this command to install scikit-plot.\n",
    "# Warning, if you a running locally, don't call pip from within jupyter, call it from terminal in the corresponding\n",
    "# virtual environment instead\n",
    "\n",
    "# ! pip install scikit-plot"
   ]
  },
  {
   "cell_type": "markdown",
   "metadata": {},
   "source": [
    "#### 2.2. PCA: explained variance plot\n",
    "* Apply the PCA to the train part of the data. Build the explaided variance plot. "
   ]
  },
  {
   "cell_type": "code",
   "execution_count": 12,
   "metadata": {
    "nbgrader": {
     "grade": true,
     "grade_id": "cell-c6c614740bce090e",
     "locked": false,
     "points": 10,
     "schema_version": 2,
     "solution": true
    }
   },
   "outputs": [],
   "source": [
    "### YOUR CODE HERE\n",
    "from sklearn.decomposition import PCA\n",
    "\n",
    "pca_pipeline = Pipeline([(\"scaler\", StandardScaler()), (\"pca\", PCA())])"
   ]
  },
  {
   "cell_type": "code",
   "execution_count": 13,
   "metadata": {},
   "outputs": [
    {
     "data": {
      "text/plain": [
       "Text(0.5, 1.0, 'Explained variance by i-th component')"
      ]
     },
     "execution_count": 13,
     "metadata": {},
     "output_type": "execute_result"
    },
    {
     "data": {
      "image/png": "[encoded data removed]",
      "text/plain": [
       "<Figure size 640x480 with 1 Axes>"
      ]
     },
     "metadata": {},
     "output_type": "display_data"
    }
   ],
   "source": [
    "pca_pipeline.fit(X_train)\n",
    "plt.plot((t := pca_pipeline[\"pca\"].explained_variance_) / (sum(t)))\n",
    "plt.title(\"Explained variance by i-th component\")"
   ]
  },
  {
   "cell_type": "markdown",
   "metadata": {
    "nbgrader": {
     "grade": false,
     "grade_id": "cell-0c1fe666f52fe53c",
     "locked": true,
     "schema_version": 2,
     "solution": false
    }
   },
   "source": [
    "#### 2.3. PCA trasformation\n",
    "* Select the appropriate number of components. Briefly explain your choice. Should you normalize the data?\n",
    "\n",
    "*Use `fit` and `transform` methods to transform the `train` and `test` parts.*"
   ]
  },
  {
   "cell_type": "code",
   "execution_count": 14,
   "metadata": {
    "nbgrader": {
     "grade": true,
     "grade_id": "cell-96ab18d96473ef71",
     "locked": false,
     "points": 5,
     "schema_version": 2,
     "solution": true
    }
   },
   "outputs": [
    {
     "ename": "NameError",
     "evalue": "name 'regularization_type' is not defined",
     "output_type": "error",
     "traceback": [
      "\u001b[0;31m---------------------------------------------------------------------------\u001b[0m",
      "\u001b[0;31mNameError\u001b[0m                                 Traceback (most recent call last)",
      "Cell \u001b[0;32mIn[14], line 17\u001b[0m\n\u001b[1;32m      1\u001b[0m \u001b[38;5;66;03m### YOUR CODE HERE\u001b[39;00m\n\u001b[1;32m      2\u001b[0m \u001b[38;5;66;03m# normalization is necessary due to dependence of method to parametrization of feature\u001b[39;00m\n\u001b[1;32m      5\u001b[0m pca_pipeline \u001b[38;5;241m=\u001b[39m Pipeline(\n\u001b[1;32m      6\u001b[0m     [\n\u001b[1;32m      7\u001b[0m         (\u001b[38;5;124m\"\u001b[39m\u001b[38;5;124mscaler\u001b[39m\u001b[38;5;124m\"\u001b[39m, StandardScaler()),\n\u001b[1;32m      8\u001b[0m         (\n\u001b[1;32m      9\u001b[0m             \u001b[38;5;124m\"\u001b[39m\u001b[38;5;124mpca\u001b[39m\u001b[38;5;124m\"\u001b[39m,\n\u001b[1;32m     10\u001b[0m             PCA(n_components\u001b[38;5;241m=\u001b[39m\u001b[38;5;241m5\u001b[39m),  \u001b[38;5;66;03m# 5 components take 90% of variance\u001b[39;00m\n\u001b[1;32m     11\u001b[0m             (\n\u001b[1;32m     12\u001b[0m                 \u001b[38;5;124m\"\u001b[39m\u001b[38;5;124mlr\u001b[39m\u001b[38;5;124m\"\u001b[39m,\n\u001b[1;32m     13\u001b[0m                 LogisticRegression(\n\u001b[1;32m     14\u001b[0m                     solver\u001b[38;5;241m=\u001b[39m\u001b[38;5;124m\"\u001b[39m\u001b[38;5;124msaga\u001b[39m\u001b[38;5;124m\"\u001b[39m,\n\u001b[1;32m     15\u001b[0m                     tol\u001b[38;5;241m=\u001b[39m\u001b[38;5;241m1e-3\u001b[39m,\n\u001b[1;32m     16\u001b[0m                     max_iter\u001b[38;5;241m=\u001b[39m\u001b[38;5;241m500\u001b[39m,\n\u001b[0;32m---> 17\u001b[0m                     penalty\u001b[38;5;241m=\u001b[39m\u001b[43mregularization_type\u001b[49m,\n\u001b[1;32m     18\u001b[0m                     C\u001b[38;5;241m=\u001b[39mc,\n\u001b[1;32m     19\u001b[0m                 ),\n\u001b[1;32m     20\u001b[0m             ),\n\u001b[1;32m     21\u001b[0m         ),\n\u001b[1;32m     22\u001b[0m     ]\n\u001b[1;32m     23\u001b[0m )\n",
      "\u001b[0;31mNameError\u001b[0m: name 'regularization_type' is not defined"
     ]
    }
   ],
   "source": [
    "### YOUR CODE HERE\n",
    "# normalization is necessary due to dependence of method to parametrization of feature\n",
    "\n",
    "\n",
    "pca_pipeline = Pipeline(\n",
    "    [\n",
    "        (\"scaler\", StandardScaler()),\n",
    "        (\n",
    "            \"pca\",\n",
    "            PCA(n_components=5),  # 5 components take 90% of variance\n",
    "            (\n",
    "                \"lr\",\n",
    "                LogisticRegression(\n",
    "                    solver=\"saga\",\n",
    "                    tol=1e-3,\n",
    "                    max_iter=500,\n",
    "                    penalty=regularization_type,\n",
    "                    C=c,\n",
    "                ),\n",
    "            ),\n",
    "        ),\n",
    "    ]\n",
    ")"
   ]
  },
  {
   "cell_type": "markdown",
   "metadata": {},
   "source": [
    "**Note: From this point `sklearn` [Pipeline](https://scikit-learn.org/stable/modules/compose.html) might be useful to perform transformations on the data. Refer to the [docs](https://scikit-learn.org/stable/modules/generated/sklearn.pipeline.Pipeline.html) for more information.**"
   ]
  },
  {
   "cell_type": "markdown",
   "metadata": {
    "nbgrader": {
     "grade": false,
     "grade_id": "cell-d28b58a35c94e988",
     "locked": true,
     "schema_version": 2,
     "solution": false
    }
   },
   "source": [
    "#### 2.4. Logistic regression on PCA-preprocessed data.\n",
    "* Find optimal hyperparameters for logistic regression with cross-validation on the transformed by PCA `train` data.\n",
    "\n",
    "* Estimate the model quality with `f1` and `accuracy` scores.\n",
    "* Plot a ROC-curve for the trained model. For the multiclass case you might use `scikitplot` library (e.g. `scikitplot.metrics.plot_roc(test_labels, predicted_proba)`).\n",
    "\n",
    "*Note: please, use the following hyperparameters for logistic regression: `multi_class='multinomial'`, `solver='saga'` and `tol=1e-3`*"
   ]
  },
  {
   "cell_type": "code",
   "execution_count": null,
   "metadata": {
    "nbgrader": {
     "grade": true,
     "grade_id": "cell-12d53ea45258fa82",
     "locked": false,
     "points": 5,
     "schema_version": 2,
     "solution": true
    }
   },
   "outputs": [],
   "source": [
    "### YOUR CODE HERE"
   ]
  },
  {
   "cell_type": "markdown",
   "metadata": {
    "nbgrader": {
     "grade": false,
     "grade_id": "cell-4fbf16c64076e139",
     "locked": true,
     "schema_version": 2,
     "solution": false
    }
   },
   "source": [
    "#### 2.5. Decision tree\n",
    "* Now train a desicion tree on the same data. Find optimal tree depth (`max_depth`) using cross-validation.\n",
    "\n",
    "* Measure the model quality using the same metrics you used above."
   ]
  },
  {
   "cell_type": "code",
   "execution_count": null,
   "metadata": {
    "nbgrader": {
     "grade": true,
     "grade_id": "cell-748ed20b51c67fab",
     "locked": false,
     "points": 15,
     "schema_version": 2,
     "solution": true
    }
   },
   "outputs": [],
   "source": [
    "from sklearn.tree import DecisionTreeClassifier\n",
    "\n",
    "# YOUR CODE HERE"
   ]
  },
  {
   "cell_type": "markdown",
   "metadata": {
    "nbgrader": {
     "grade": false,
     "grade_id": "cell-9eadd4d8a03ae67a",
     "locked": true,
     "schema_version": 2,
     "solution": false
    }
   },
   "source": [
    "#### 2.6. Bagging.\n",
    "Here starts the ensembling part.\n",
    "\n",
    "First we will use the __Bagging__ approach. Build an ensemble of $N$ algorithms varying N from $N_{min}=2$ to $N_{max}=100$ (with step 5).\n",
    "\n",
    "We will build two ensembles: of logistic regressions and of decision trees.\n",
    "\n",
    "*Comment: each ensemble should be constructed from models of the same family, so logistic regressions should not be mixed up with decision trees.*\n",
    "\n",
    "\n",
    "*Hint 1: To build a __Bagging__ ensebmle varying the ensemble size efficiently you might generate $N_{max}$ subsets of `train` data (of the same size as the original dataset) using bootstrap procedure once. Then you train a new instance of logistic regression/decision tree with optimal hyperparameters you estimated before on each subset (so you train it from scratch). Finally, to get an ensemble of $N$ models you average the $N$ out of $N_{max}$ models predictions.*\n",
    "\n",
    "*Hint 2: sklearn might help you with this taks. Some appropriate function/class might be out there.*\n",
    "\n",
    "* Plot `f1` and `accuracy` scores plots w.r.t. the size of the ensemble.\n",
    "\n",
    "* Briefly analyse the plot. What is the optimal number of algorithms? Explain your answer.\n",
    "\n",
    "* How do you think, are the hyperparameters for the decision trees you found in 2.5 optimal for trees used in ensemble? "
   ]
  },
  {
   "cell_type": "code",
   "execution_count": null,
   "metadata": {
    "nbgrader": {
     "grade": true,
     "grade_id": "cell-8fc95a2b206bdae1",
     "locked": false,
     "points": 35,
     "schema_version": 2,
     "solution": true
    }
   },
   "outputs": [],
   "source": [
    "# YOUR CODE HERE"
   ]
  },
  {
   "cell_type": "code",
   "execution_count": null,
   "metadata": {},
   "outputs": [],
   "source": []
  },
  {
   "cell_type": "markdown",
   "metadata": {
    "nbgrader": {
     "grade": false,
     "grade_id": "cell-241b7691ab44cbfb",
     "locked": true,
     "schema_version": 2,
     "solution": false
    }
   },
   "source": [
    "#### 2.7. Random Forest\n",
    "Now we will work with the Random Forest (its `sklearn` implementation).\n",
    "\n",
    "* * Plot `f1` and `accuracy` scores plots w.r.t. the number of trees in Random Forest.\n",
    "\n",
    "* What is the optimal number of trees you've got? Is it different from the optimal number of logistic regressions/decision trees in 2.6? Explain the results briefly."
   ]
  },
  {
   "cell_type": "code",
   "execution_count": null,
   "metadata": {
    "nbgrader": {
     "grade": true,
     "grade_id": "cell-888755d0f3d91620",
     "locked": false,
     "points": 15,
     "schema_version": 2,
     "solution": true
    }
   },
   "outputs": [],
   "source": [
    "from sklearn.ensemble import RandomForestClassifier\n",
    "\n",
    "# YOUR CODE HERE"
   ]
  },
  {
   "cell_type": "markdown",
   "metadata": {
    "nbgrader": {
     "grade": false,
     "grade_id": "cell-99191c0852538d4d",
     "locked": true,
     "schema_version": 2,
     "solution": false
    }
   },
   "source": [
    "#### 2.8. Learning curve\n",
    "Your goal is to estimate, how does the model behaviour change with the increase of the `train` dataset size.\n",
    "\n",
    "* Split the training data into 10 equal (almost) parts. Then train the models from above (Logistic regression, Desicion Tree, Random Forest) with optimal hyperparameters you have selected on 1 part, 2 parts (combined, so the train size in increased by 2 times), 3 parts and so on.\n",
    "\n",
    "* Build a plot of `accuracy` and `f1` scores on `test` part, varying the `train` dataset size (so the axes will be score - dataset size.\n",
    "\n",
    "* Analyse the final plot. Can you make any conlusions using it? "
   ]
  },
  {
   "cell_type": "code",
   "execution_count": null,
   "metadata": {
    "nbgrader": {
     "grade": true,
     "grade_id": "cell-e39bc7e7dff61ff9",
     "locked": false,
     "points": 15,
     "schema_version": 2,
     "solution": true
    }
   },
   "outputs": [],
   "source": [
    "# YOUR CODE HERE"
   ]
  },
  {
   "cell_type": "markdown",
   "metadata": {},
   "source": [
    "#### 2.9. Boosting\n",
    "Your goal is to build a boosting ensemble using xgboost, CatBoost or lightgbm package.\n",
    "Please, do not use the sklearn API for these models.\n",
    "\n",
    "Find optimal number of decision trees in the boosting ensembe using grid search or other methods.\n",
    "Please, explain your answer."
   ]
  },
  {
   "cell_type": "code",
   "execution_count": null,
   "metadata": {},
   "outputs": [],
   "source": [
    "# YOUR CODE HERE"
   ]
  }
 ],
 "metadata": {
  "celltoolbar": "Create Assignment",
  "kernelspec": {
   "display_name": ".venv",
   "language": "python",
   "name": "python3"
  },
  "language_info": {
   "codemirror_mode": {
    "name": "ipython",
    "version": 3
   },
   "file_extension": ".py",
   "mimetype": "text/x-python",
   "name": "python",
   "nbconvert_exporter": "python",
   "pygments_lexer": "ipython3",
   "version": "3.10.12"
  },
  "toc": {
   "base_numbering": 1,
   "nav_menu": {},
   "number_sections": false,
   "sideBar": true,
   "skip_h1_title": false,
   "title_cell": "Table of Contents",
   "title_sidebar": "Contents",
   "toc_cell": false,
   "toc_position": {},
   "toc_section_display": true,
   "toc_window_display": false
  }
 },
 "nbformat": 4,
 "nbformat_minor": 4
}
