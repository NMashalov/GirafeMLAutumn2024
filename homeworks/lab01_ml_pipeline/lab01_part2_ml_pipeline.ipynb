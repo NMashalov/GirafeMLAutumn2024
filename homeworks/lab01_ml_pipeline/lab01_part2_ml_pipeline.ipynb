{
 "cells": [
  {
   "cell_type": "markdown",
   "metadata": {
    "nbgrader": {
     "grade": false,
     "grade_id": "cell-86e0de040aac317a",
     "locked": true,
     "schema_version": 2,
     "solution": false
    }
   },
   "source": [
    "# Lab assignment №1, part 2\n",
    "\n",
    "This lab assignment consists of several parts. You are supposed to make some transformations, train some models, estimate the quality of the models and explain your results.\n",
    "\n",
    "Several comments:\n",
    "* Don't hesitate to ask questions, it's a good practice.\n",
    "* No private/public sharing, please. The copied assignments will be graded with 0 points.\n",
    "* Blocks of this lab will be graded separately."
   ]
  },
  {
   "cell_type": "markdown",
   "metadata": {},
   "source": [
    "__*This is the second part of the assignment. First and third parts are waiting for you in the same directory.*__"
   ]
  },
  {
   "cell_type": "markdown",
   "metadata": {
    "nbgrader": {
     "grade": false,
     "grade_id": "cell-512ba712fc0fc065",
     "locked": true,
     "schema_version": 2,
     "solution": false
    }
   },
   "source": [
    "## Part 2. Data preprocessing, model training and evaluation."
   ]
  },
  {
   "cell_type": "markdown",
   "metadata": {
    "nbgrader": {
     "grade": false,
     "grade_id": "cell-b656a4266174b009",
     "locked": true,
     "schema_version": 2,
     "solution": false
    }
   },
   "source": [
    "### 1. Reading the data\n",
    "Today we work with the [dataset](https://archive.ics.uci.edu/ml/datasets/Statlog+%28Vehicle+Silhouettes%29), describing different cars for multiclass ($k=4$) classification problem. The data is available below."
   ]
  },
  {
   "cell_type": "code",
   "execution_count": 1,
   "metadata": {},
   "outputs": [
    {
     "name": "stdout",
     "output_type": "stream",
     "text": [
      "--2024-10-30 01:30:59--  https://raw.githubusercontent.com/girafe-ai/ml-course/22f_made/homeworks/lab01_ml_pipeline/car_data.csv\n",
      "Resolving raw.githubusercontent.com (raw.githubusercontent.com)... 185.199.109.133, 185.199.108.133, 185.199.110.133, ...\n",
      "Connecting to raw.githubusercontent.com (raw.githubusercontent.com)|185.199.109.133|:443... connected.\n",
      "HTTP request sent, awaiting response... 200 OK\n",
      "Length: 58374 (57K) [text/plain]\n",
      "Saving to: ‘car_data.csv’\n",
      "\n",
      "car_data.csv        100%[===================>]  57.01K  --.-KB/s    in 0.05s   \n",
      "\n",
      "2024-10-30 01:30:59 (1.15 MB/s) - ‘car_data.csv’ saved [58374/58374]\n",
      "\n"
     ]
    }
   ],
   "source": [
    "# If on colab, uncomment the following lines\n",
    "! wget https://raw.githubusercontent.com/girafe-ai/ml-course/22f_made/homeworks/lab01_ml_pipeline/car_data.csv"
   ]
  },
  {
   "cell_type": "code",
   "execution_count": 2,
   "metadata": {
    "nbgrader": {
     "grade": false,
     "grade_id": "cell-eebac6bfdf73d0bc",
     "locked": true,
     "schema_version": 2,
     "solution": false
    }
   },
   "outputs": [
    {
     "name": "stdout",
     "output_type": "stream",
     "text": [
      "(846, 19) (846,)\n",
      "(549, 19) (549,) (297, 19) (297,)\n"
     ]
    }
   ],
   "source": [
    "import pandas as pd\n",
    "import numpy as np\n",
    "from sklearn.model_selection import train_test_split\n",
    "\n",
    "dataset = pd.read_csv(\"car_data.csv\", delimiter=\",\", header=None).values\n",
    "data = dataset[:, :-1].astype(int)\n",
    "target = dataset[:, -1]\n",
    "\n",
    "print(data.shape, target.shape)\n",
    "\n",
    "X_train, X_test, y_train, y_test = train_test_split(data, target, test_size=0.35)\n",
    "print(X_train.shape, y_train.shape, X_test.shape, y_test.shape)"
   ]
  },
  {
   "cell_type": "markdown",
   "metadata": {
    "nbgrader": {
     "grade": false,
     "grade_id": "cell-88b1a0f688568f2c",
     "locked": true,
     "schema_version": 2,
     "solution": false
    }
   },
   "source": [
    "To get some insights about the dataset, `pandas` might be used. The `train` part is transformed to `pd.DataFrame` below."
   ]
  },
  {
   "cell_type": "code",
   "execution_count": 3,
   "metadata": {},
   "outputs": [
    {
     "data": {
      "text/html": [
       "<div>\n",
       "<style scoped>\n",
       "    .dataframe tbody tr th:only-of-type {\n",
       "        vertical-align: middle;\n",
       "    }\n",
       "\n",
       "    .dataframe tbody tr th {\n",
       "        vertical-align: top;\n",
       "    }\n",
       "\n",
       "    .dataframe thead th {\n",
       "        text-align: right;\n",
       "    }\n",
       "</style>\n",
       "<table border=\"1\" class=\"dataframe\">\n",
       "  <thead>\n",
       "    <tr style=\"text-align: right;\">\n",
       "      <th></th>\n",
       "      <th>0</th>\n",
       "      <th>1</th>\n",
       "      <th>2</th>\n",
       "      <th>3</th>\n",
       "      <th>4</th>\n",
       "      <th>5</th>\n",
       "      <th>6</th>\n",
       "      <th>7</th>\n",
       "      <th>8</th>\n",
       "      <th>9</th>\n",
       "      <th>10</th>\n",
       "      <th>11</th>\n",
       "      <th>12</th>\n",
       "      <th>13</th>\n",
       "      <th>14</th>\n",
       "      <th>15</th>\n",
       "      <th>16</th>\n",
       "      <th>17</th>\n",
       "      <th>18</th>\n",
       "    </tr>\n",
       "  </thead>\n",
       "  <tbody>\n",
       "    <tr>\n",
       "      <th>0</th>\n",
       "      <td>161</td>\n",
       "      <td>107</td>\n",
       "      <td>52</td>\n",
       "      <td>101</td>\n",
       "      <td>218</td>\n",
       "      <td>64</td>\n",
       "      <td>11</td>\n",
       "      <td>202</td>\n",
       "      <td>33</td>\n",
       "      <td>23</td>\n",
       "      <td>164</td>\n",
       "      <td>219</td>\n",
       "      <td>610</td>\n",
       "      <td>192</td>\n",
       "      <td>65</td>\n",
       "      <td>17</td>\n",
       "      <td>2</td>\n",
       "      <td>197</td>\n",
       "      <td>206</td>\n",
       "    </tr>\n",
       "    <tr>\n",
       "      <th>1</th>\n",
       "      <td>202</td>\n",
       "      <td>111</td>\n",
       "      <td>54</td>\n",
       "      <td>103</td>\n",
       "      <td>171</td>\n",
       "      <td>50</td>\n",
       "      <td>11</td>\n",
       "      <td>221</td>\n",
       "      <td>30</td>\n",
       "      <td>25</td>\n",
       "      <td>172</td>\n",
       "      <td>227</td>\n",
       "      <td>727</td>\n",
       "      <td>201</td>\n",
       "      <td>69</td>\n",
       "      <td>15</td>\n",
       "      <td>6</td>\n",
       "      <td>190</td>\n",
       "      <td>198</td>\n",
       "    </tr>\n",
       "    <tr>\n",
       "      <th>2</th>\n",
       "      <td>641</td>\n",
       "      <td>84</td>\n",
       "      <td>43</td>\n",
       "      <td>76</td>\n",
       "      <td>180</td>\n",
       "      <td>75</td>\n",
       "      <td>7</td>\n",
       "      <td>155</td>\n",
       "      <td>43</td>\n",
       "      <td>19</td>\n",
       "      <td>143</td>\n",
       "      <td>180</td>\n",
       "      <td>359</td>\n",
       "      <td>173</td>\n",
       "      <td>77</td>\n",
       "      <td>5</td>\n",
       "      <td>12</td>\n",
       "      <td>185</td>\n",
       "      <td>190</td>\n",
       "    </tr>\n",
       "    <tr>\n",
       "      <th>3</th>\n",
       "      <td>71</td>\n",
       "      <td>97</td>\n",
       "      <td>59</td>\n",
       "      <td>108</td>\n",
       "      <td>227</td>\n",
       "      <td>70</td>\n",
       "      <td>11</td>\n",
       "      <td>224</td>\n",
       "      <td>30</td>\n",
       "      <td>25</td>\n",
       "      <td>186</td>\n",
       "      <td>225</td>\n",
       "      <td>732</td>\n",
       "      <td>218</td>\n",
       "      <td>70</td>\n",
       "      <td>10</td>\n",
       "      <td>25</td>\n",
       "      <td>186</td>\n",
       "      <td>198</td>\n",
       "    </tr>\n",
       "    <tr>\n",
       "      <th>4</th>\n",
       "      <td>48</td>\n",
       "      <td>89</td>\n",
       "      <td>47</td>\n",
       "      <td>81</td>\n",
       "      <td>147</td>\n",
       "      <td>64</td>\n",
       "      <td>11</td>\n",
       "      <td>156</td>\n",
       "      <td>44</td>\n",
       "      <td>20</td>\n",
       "      <td>163</td>\n",
       "      <td>170</td>\n",
       "      <td>352</td>\n",
       "      <td>188</td>\n",
       "      <td>76</td>\n",
       "      <td>6</td>\n",
       "      <td>13</td>\n",
       "      <td>184</td>\n",
       "      <td>193</td>\n",
       "    </tr>\n",
       "    <tr>\n",
       "      <th>5</th>\n",
       "      <td>169</td>\n",
       "      <td>98</td>\n",
       "      <td>38</td>\n",
       "      <td>70</td>\n",
       "      <td>125</td>\n",
       "      <td>52</td>\n",
       "      <td>8</td>\n",
       "      <td>130</td>\n",
       "      <td>53</td>\n",
       "      <td>18</td>\n",
       "      <td>139</td>\n",
       "      <td>157</td>\n",
       "      <td>243</td>\n",
       "      <td>132</td>\n",
       "      <td>74</td>\n",
       "      <td>0</td>\n",
       "      <td>13</td>\n",
       "      <td>186</td>\n",
       "      <td>185</td>\n",
       "    </tr>\n",
       "    <tr>\n",
       "      <th>6</th>\n",
       "      <td>483</td>\n",
       "      <td>86</td>\n",
       "      <td>38</td>\n",
       "      <td>76</td>\n",
       "      <td>143</td>\n",
       "      <td>59</td>\n",
       "      <td>8</td>\n",
       "      <td>142</td>\n",
       "      <td>47</td>\n",
       "      <td>18</td>\n",
       "      <td>131</td>\n",
       "      <td>167</td>\n",
       "      <td>301</td>\n",
       "      <td>138</td>\n",
       "      <td>71</td>\n",
       "      <td>5</td>\n",
       "      <td>10</td>\n",
       "      <td>189</td>\n",
       "      <td>196</td>\n",
       "    </tr>\n",
       "    <tr>\n",
       "      <th>7</th>\n",
       "      <td>345</td>\n",
       "      <td>101</td>\n",
       "      <td>54</td>\n",
       "      <td>106</td>\n",
       "      <td>188</td>\n",
       "      <td>57</td>\n",
       "      <td>7</td>\n",
       "      <td>236</td>\n",
       "      <td>28</td>\n",
       "      <td>26</td>\n",
       "      <td>164</td>\n",
       "      <td>256</td>\n",
       "      <td>833</td>\n",
       "      <td>253</td>\n",
       "      <td>81</td>\n",
       "      <td>6</td>\n",
       "      <td>14</td>\n",
       "      <td>185</td>\n",
       "      <td>185</td>\n",
       "    </tr>\n",
       "    <tr>\n",
       "      <th>8</th>\n",
       "      <td>665</td>\n",
       "      <td>90</td>\n",
       "      <td>47</td>\n",
       "      <td>85</td>\n",
       "      <td>161</td>\n",
       "      <td>64</td>\n",
       "      <td>10</td>\n",
       "      <td>163</td>\n",
       "      <td>42</td>\n",
       "      <td>20</td>\n",
       "      <td>160</td>\n",
       "      <td>177</td>\n",
       "      <td>389</td>\n",
       "      <td>185</td>\n",
       "      <td>73</td>\n",
       "      <td>9</td>\n",
       "      <td>0</td>\n",
       "      <td>185</td>\n",
       "      <td>195</td>\n",
       "    </tr>\n",
       "    <tr>\n",
       "      <th>9</th>\n",
       "      <td>19</td>\n",
       "      <td>101</td>\n",
       "      <td>56</td>\n",
       "      <td>100</td>\n",
       "      <td>215</td>\n",
       "      <td>69</td>\n",
       "      <td>10</td>\n",
       "      <td>208</td>\n",
       "      <td>32</td>\n",
       "      <td>24</td>\n",
       "      <td>169</td>\n",
       "      <td>227</td>\n",
       "      <td>651</td>\n",
       "      <td>223</td>\n",
       "      <td>74</td>\n",
       "      <td>6</td>\n",
       "      <td>5</td>\n",
       "      <td>186</td>\n",
       "      <td>193</td>\n",
       "    </tr>\n",
       "    <tr>\n",
       "      <th>10</th>\n",
       "      <td>705</td>\n",
       "      <td>110</td>\n",
       "      <td>54</td>\n",
       "      <td>102</td>\n",
       "      <td>201</td>\n",
       "      <td>64</td>\n",
       "      <td>11</td>\n",
       "      <td>213</td>\n",
       "      <td>31</td>\n",
       "      <td>24</td>\n",
       "      <td>171</td>\n",
       "      <td>222</td>\n",
       "      <td>669</td>\n",
       "      <td>221</td>\n",
       "      <td>73</td>\n",
       "      <td>17</td>\n",
       "      <td>16</td>\n",
       "      <td>188</td>\n",
       "      <td>198</td>\n",
       "    </tr>\n",
       "    <tr>\n",
       "      <th>11</th>\n",
       "      <td>502</td>\n",
       "      <td>86</td>\n",
       "      <td>36</td>\n",
       "      <td>66</td>\n",
       "      <td>128</td>\n",
       "      <td>57</td>\n",
       "      <td>8</td>\n",
       "      <td>131</td>\n",
       "      <td>52</td>\n",
       "      <td>18</td>\n",
       "      <td>127</td>\n",
       "      <td>148</td>\n",
       "      <td>252</td>\n",
       "      <td>139</td>\n",
       "      <td>76</td>\n",
       "      <td>5</td>\n",
       "      <td>27</td>\n",
       "      <td>183</td>\n",
       "      <td>187</td>\n",
       "    </tr>\n",
       "    <tr>\n",
       "      <th>12</th>\n",
       "      <td>713</td>\n",
       "      <td>107</td>\n",
       "      <td>53</td>\n",
       "      <td>108</td>\n",
       "      <td>211</td>\n",
       "      <td>63</td>\n",
       "      <td>11</td>\n",
       "      <td>219</td>\n",
       "      <td>31</td>\n",
       "      <td>25</td>\n",
       "      <td>168</td>\n",
       "      <td>228</td>\n",
       "      <td>704</td>\n",
       "      <td>198</td>\n",
       "      <td>69</td>\n",
       "      <td>10</td>\n",
       "      <td>21</td>\n",
       "      <td>190</td>\n",
       "      <td>203</td>\n",
       "    </tr>\n",
       "    <tr>\n",
       "      <th>13</th>\n",
       "      <td>644</td>\n",
       "      <td>96</td>\n",
       "      <td>46</td>\n",
       "      <td>88</td>\n",
       "      <td>160</td>\n",
       "      <td>64</td>\n",
       "      <td>9</td>\n",
       "      <td>151</td>\n",
       "      <td>44</td>\n",
       "      <td>19</td>\n",
       "      <td>148</td>\n",
       "      <td>173</td>\n",
       "      <td>339</td>\n",
       "      <td>182</td>\n",
       "      <td>70</td>\n",
       "      <td>15</td>\n",
       "      <td>11</td>\n",
       "      <td>192</td>\n",
       "      <td>199</td>\n",
       "    </tr>\n",
       "    <tr>\n",
       "      <th>14</th>\n",
       "      <td>94</td>\n",
       "      <td>84</td>\n",
       "      <td>45</td>\n",
       "      <td>66</td>\n",
       "      <td>154</td>\n",
       "      <td>65</td>\n",
       "      <td>6</td>\n",
       "      <td>145</td>\n",
       "      <td>46</td>\n",
       "      <td>19</td>\n",
       "      <td>144</td>\n",
       "      <td>168</td>\n",
       "      <td>312</td>\n",
       "      <td>177</td>\n",
       "      <td>73</td>\n",
       "      <td>2</td>\n",
       "      <td>3</td>\n",
       "      <td>184</td>\n",
       "      <td>188</td>\n",
       "    </tr>\n",
       "  </tbody>\n",
       "</table>\n",
       "</div>"
      ],
      "text/plain": [
       "     0    1   2    3    4   5   6    7   8   9    10   11   12   13  14  15  \\\n",
       "0   161  107  52  101  218  64  11  202  33  23  164  219  610  192  65  17   \n",
       "1   202  111  54  103  171  50  11  221  30  25  172  227  727  201  69  15   \n",
       "2   641   84  43   76  180  75   7  155  43  19  143  180  359  173  77   5   \n",
       "3    71   97  59  108  227  70  11  224  30  25  186  225  732  218  70  10   \n",
       "4    48   89  47   81  147  64  11  156  44  20  163  170  352  188  76   6   \n",
       "5   169   98  38   70  125  52   8  130  53  18  139  157  243  132  74   0   \n",
       "6   483   86  38   76  143  59   8  142  47  18  131  167  301  138  71   5   \n",
       "7   345  101  54  106  188  57   7  236  28  26  164  256  833  253  81   6   \n",
       "8   665   90  47   85  161  64  10  163  42  20  160  177  389  185  73   9   \n",
       "9    19  101  56  100  215  69  10  208  32  24  169  227  651  223  74   6   \n",
       "10  705  110  54  102  201  64  11  213  31  24  171  222  669  221  73  17   \n",
       "11  502   86  36   66  128  57   8  131  52  18  127  148  252  139  76   5   \n",
       "12  713  107  53  108  211  63  11  219  31  25  168  228  704  198  69  10   \n",
       "13  644   96  46   88  160  64   9  151  44  19  148  173  339  182  70  15   \n",
       "14   94   84  45   66  154  65   6  145  46  19  144  168  312  177  73   2   \n",
       "\n",
       "    16   17   18  \n",
       "0    2  197  206  \n",
       "1    6  190  198  \n",
       "2   12  185  190  \n",
       "3   25  186  198  \n",
       "4   13  184  193  \n",
       "5   13  186  185  \n",
       "6   10  189  196  \n",
       "7   14  185  185  \n",
       "8    0  185  195  \n",
       "9    5  186  193  \n",
       "10  16  188  198  \n",
       "11  27  183  187  \n",
       "12  21  190  203  \n",
       "13  11  192  199  \n",
       "14   3  184  188  "
      ]
     },
     "execution_count": 3,
     "metadata": {},
     "output_type": "execute_result"
    }
   ],
   "source": [
    "X_train_pd = pd.DataFrame(X_train)\n",
    "\n",
    "# First 15 rows of our dataset.\n",
    "X_train_pd.head(15)"
   ]
  },
  {
   "cell_type": "markdown",
   "metadata": {
    "nbgrader": {
     "grade": false,
     "grade_id": "cell-98e7d91d77d65fcf",
     "locked": true,
     "schema_version": 2,
     "solution": false
    }
   },
   "source": [
    "Methods `describe` and `info` deliver some useful information."
   ]
  },
  {
   "cell_type": "code",
   "execution_count": 4,
   "metadata": {},
   "outputs": [
    {
     "data": {
      "text/html": [
       "<div>\n",
       "<style scoped>\n",
       "    .dataframe tbody tr th:only-of-type {\n",
       "        vertical-align: middle;\n",
       "    }\n",
       "\n",
       "    .dataframe tbody tr th {\n",
       "        vertical-align: top;\n",
       "    }\n",
       "\n",
       "    .dataframe thead th {\n",
       "        text-align: right;\n",
       "    }\n",
       "</style>\n",
       "<table border=\"1\" class=\"dataframe\">\n",
       "  <thead>\n",
       "    <tr style=\"text-align: right;\">\n",
       "      <th></th>\n",
       "      <th>0</th>\n",
       "      <th>1</th>\n",
       "      <th>2</th>\n",
       "      <th>3</th>\n",
       "      <th>4</th>\n",
       "      <th>5</th>\n",
       "      <th>6</th>\n",
       "      <th>7</th>\n",
       "      <th>8</th>\n",
       "      <th>9</th>\n",
       "      <th>10</th>\n",
       "      <th>11</th>\n",
       "      <th>12</th>\n",
       "      <th>13</th>\n",
       "      <th>14</th>\n",
       "      <th>15</th>\n",
       "      <th>16</th>\n",
       "      <th>17</th>\n",
       "      <th>18</th>\n",
       "    </tr>\n",
       "  </thead>\n",
       "  <tbody>\n",
       "    <tr>\n",
       "      <th>count</th>\n",
       "      <td>549.000000</td>\n",
       "      <td>549.000000</td>\n",
       "      <td>549.000000</td>\n",
       "      <td>549.000000</td>\n",
       "      <td>549.000000</td>\n",
       "      <td>549.000000</td>\n",
       "      <td>549.000000</td>\n",
       "      <td>549.000000</td>\n",
       "      <td>549.000000</td>\n",
       "      <td>549.000000</td>\n",
       "      <td>549.000000</td>\n",
       "      <td>549.000000</td>\n",
       "      <td>549.000000</td>\n",
       "      <td>549.000000</td>\n",
       "      <td>549.000000</td>\n",
       "      <td>549.000000</td>\n",
       "      <td>549.000000</td>\n",
       "      <td>549.000000</td>\n",
       "      <td>549.000000</td>\n",
       "    </tr>\n",
       "    <tr>\n",
       "      <th>mean</th>\n",
       "      <td>421.615665</td>\n",
       "      <td>93.575592</td>\n",
       "      <td>44.808743</td>\n",
       "      <td>81.885246</td>\n",
       "      <td>167.998179</td>\n",
       "      <td>61.468124</td>\n",
       "      <td>8.571949</td>\n",
       "      <td>168.245902</td>\n",
       "      <td>41.051002</td>\n",
       "      <td>20.540984</td>\n",
       "      <td>147.912568</td>\n",
       "      <td>188.041894</td>\n",
       "      <td>436.295082</td>\n",
       "      <td>174.500911</td>\n",
       "      <td>72.539162</td>\n",
       "      <td>6.451730</td>\n",
       "      <td>12.397086</td>\n",
       "      <td>188.808743</td>\n",
       "      <td>195.477231</td>\n",
       "    </tr>\n",
       "    <tr>\n",
       "      <th>std</th>\n",
       "      <td>248.826259</td>\n",
       "      <td>8.132133</td>\n",
       "      <td>6.094888</td>\n",
       "      <td>15.497808</td>\n",
       "      <td>33.058867</td>\n",
       "      <td>7.561511</td>\n",
       "      <td>4.428756</td>\n",
       "      <td>32.732097</td>\n",
       "      <td>7.655513</td>\n",
       "      <td>2.566747</td>\n",
       "      <td>14.405861</td>\n",
       "      <td>30.613795</td>\n",
       "      <td>174.368601</td>\n",
       "      <td>31.844205</td>\n",
       "      <td>7.251027</td>\n",
       "      <td>5.038532</td>\n",
       "      <td>8.796922</td>\n",
       "      <td>6.257101</td>\n",
       "      <td>7.500482</td>\n",
       "    </tr>\n",
       "    <tr>\n",
       "      <th>min</th>\n",
       "      <td>2.000000</td>\n",
       "      <td>73.000000</td>\n",
       "      <td>34.000000</td>\n",
       "      <td>49.000000</td>\n",
       "      <td>105.000000</td>\n",
       "      <td>47.000000</td>\n",
       "      <td>3.000000</td>\n",
       "      <td>114.000000</td>\n",
       "      <td>26.000000</td>\n",
       "      <td>17.000000</td>\n",
       "      <td>118.000000</td>\n",
       "      <td>132.000000</td>\n",
       "      <td>192.000000</td>\n",
       "      <td>112.000000</td>\n",
       "      <td>59.000000</td>\n",
       "      <td>0.000000</td>\n",
       "      <td>0.000000</td>\n",
       "      <td>176.000000</td>\n",
       "      <td>181.000000</td>\n",
       "    </tr>\n",
       "    <tr>\n",
       "      <th>25%</th>\n",
       "      <td>193.000000</td>\n",
       "      <td>88.000000</td>\n",
       "      <td>40.000000</td>\n",
       "      <td>70.000000</td>\n",
       "      <td>140.000000</td>\n",
       "      <td>57.000000</td>\n",
       "      <td>7.000000</td>\n",
       "      <td>146.000000</td>\n",
       "      <td>34.000000</td>\n",
       "      <td>19.000000</td>\n",
       "      <td>137.000000</td>\n",
       "      <td>167.000000</td>\n",
       "      <td>315.000000</td>\n",
       "      <td>151.000000</td>\n",
       "      <td>68.000000</td>\n",
       "      <td>2.000000</td>\n",
       "      <td>5.000000</td>\n",
       "      <td>184.000000</td>\n",
       "      <td>190.000000</td>\n",
       "    </tr>\n",
       "    <tr>\n",
       "      <th>50%</th>\n",
       "      <td>435.000000</td>\n",
       "      <td>92.000000</td>\n",
       "      <td>44.000000</td>\n",
       "      <td>80.000000</td>\n",
       "      <td>166.000000</td>\n",
       "      <td>61.000000</td>\n",
       "      <td>8.000000</td>\n",
       "      <td>157.000000</td>\n",
       "      <td>43.000000</td>\n",
       "      <td>20.000000</td>\n",
       "      <td>146.000000</td>\n",
       "      <td>178.000000</td>\n",
       "      <td>363.000000</td>\n",
       "      <td>173.000000</td>\n",
       "      <td>71.000000</td>\n",
       "      <td>5.000000</td>\n",
       "      <td>11.000000</td>\n",
       "      <td>188.000000</td>\n",
       "      <td>197.000000</td>\n",
       "    </tr>\n",
       "    <tr>\n",
       "      <th>75%</th>\n",
       "      <td>631.000000</td>\n",
       "      <td>99.000000</td>\n",
       "      <td>49.000000</td>\n",
       "      <td>96.000000</td>\n",
       "      <td>195.000000</td>\n",
       "      <td>65.000000</td>\n",
       "      <td>10.000000</td>\n",
       "      <td>195.000000</td>\n",
       "      <td>46.000000</td>\n",
       "      <td>22.000000</td>\n",
       "      <td>159.000000</td>\n",
       "      <td>214.000000</td>\n",
       "      <td>573.000000</td>\n",
       "      <td>197.000000</td>\n",
       "      <td>75.000000</td>\n",
       "      <td>10.000000</td>\n",
       "      <td>18.000000</td>\n",
       "      <td>193.000000</td>\n",
       "      <td>201.000000</td>\n",
       "    </tr>\n",
       "    <tr>\n",
       "      <th>max</th>\n",
       "      <td>845.000000</td>\n",
       "      <td>119.000000</td>\n",
       "      <td>59.000000</td>\n",
       "      <td>110.000000</td>\n",
       "      <td>322.000000</td>\n",
       "      <td>133.000000</td>\n",
       "      <td>52.000000</td>\n",
       "      <td>265.000000</td>\n",
       "      <td>59.000000</td>\n",
       "      <td>29.000000</td>\n",
       "      <td>188.000000</td>\n",
       "      <td>288.000000</td>\n",
       "      <td>1018.000000</td>\n",
       "      <td>268.000000</td>\n",
       "      <td>127.000000</td>\n",
       "      <td>22.000000</td>\n",
       "      <td>41.000000</td>\n",
       "      <td>206.000000</td>\n",
       "      <td>211.000000</td>\n",
       "    </tr>\n",
       "  </tbody>\n",
       "</table>\n",
       "</div>"
      ],
      "text/plain": [
       "               0           1           2           3           4           5   \\\n",
       "count  549.000000  549.000000  549.000000  549.000000  549.000000  549.000000   \n",
       "mean   421.615665   93.575592   44.808743   81.885246  167.998179   61.468124   \n",
       "std    248.826259    8.132133    6.094888   15.497808   33.058867    7.561511   \n",
       "min      2.000000   73.000000   34.000000   49.000000  105.000000   47.000000   \n",
       "25%    193.000000   88.000000   40.000000   70.000000  140.000000   57.000000   \n",
       "50%    435.000000   92.000000   44.000000   80.000000  166.000000   61.000000   \n",
       "75%    631.000000   99.000000   49.000000   96.000000  195.000000   65.000000   \n",
       "max    845.000000  119.000000   59.000000  110.000000  322.000000  133.000000   \n",
       "\n",
       "               6           7           8           9           10          11  \\\n",
       "count  549.000000  549.000000  549.000000  549.000000  549.000000  549.000000   \n",
       "mean     8.571949  168.245902   41.051002   20.540984  147.912568  188.041894   \n",
       "std      4.428756   32.732097    7.655513    2.566747   14.405861   30.613795   \n",
       "min      3.000000  114.000000   26.000000   17.000000  118.000000  132.000000   \n",
       "25%      7.000000  146.000000   34.000000   19.000000  137.000000  167.000000   \n",
       "50%      8.000000  157.000000   43.000000   20.000000  146.000000  178.000000   \n",
       "75%     10.000000  195.000000   46.000000   22.000000  159.000000  214.000000   \n",
       "max     52.000000  265.000000   59.000000   29.000000  188.000000  288.000000   \n",
       "\n",
       "                12          13          14          15          16  \\\n",
       "count   549.000000  549.000000  549.000000  549.000000  549.000000   \n",
       "mean    436.295082  174.500911   72.539162    6.451730   12.397086   \n",
       "std     174.368601   31.844205    7.251027    5.038532    8.796922   \n",
       "min     192.000000  112.000000   59.000000    0.000000    0.000000   \n",
       "25%     315.000000  151.000000   68.000000    2.000000    5.000000   \n",
       "50%     363.000000  173.000000   71.000000    5.000000   11.000000   \n",
       "75%     573.000000  197.000000   75.000000   10.000000   18.000000   \n",
       "max    1018.000000  268.000000  127.000000   22.000000   41.000000   \n",
       "\n",
       "               17          18  \n",
       "count  549.000000  549.000000  \n",
       "mean   188.808743  195.477231  \n",
       "std      6.257101    7.500482  \n",
       "min    176.000000  181.000000  \n",
       "25%    184.000000  190.000000  \n",
       "50%    188.000000  197.000000  \n",
       "75%    193.000000  201.000000  \n",
       "max    206.000000  211.000000  "
      ]
     },
     "execution_count": 4,
     "metadata": {},
     "output_type": "execute_result"
    }
   ],
   "source": [
    "X_train_pd.describe()"
   ]
  },
  {
   "cell_type": "code",
   "execution_count": 5,
   "metadata": {},
   "outputs": [
    {
     "name": "stdout",
     "output_type": "stream",
     "text": [
      "<class 'pandas.core.frame.DataFrame'>\n",
      "RangeIndex: 549 entries, 0 to 548\n",
      "Data columns (total 19 columns):\n",
      " #   Column  Non-Null Count  Dtype\n",
      "---  ------  --------------  -----\n",
      " 0   0       549 non-null    int64\n",
      " 1   1       549 non-null    int64\n",
      " 2   2       549 non-null    int64\n",
      " 3   3       549 non-null    int64\n",
      " 4   4       549 non-null    int64\n",
      " 5   5       549 non-null    int64\n",
      " 6   6       549 non-null    int64\n",
      " 7   7       549 non-null    int64\n",
      " 8   8       549 non-null    int64\n",
      " 9   9       549 non-null    int64\n",
      " 10  10      549 non-null    int64\n",
      " 11  11      549 non-null    int64\n",
      " 12  12      549 non-null    int64\n",
      " 13  13      549 non-null    int64\n",
      " 14  14      549 non-null    int64\n",
      " 15  15      549 non-null    int64\n",
      " 16  16      549 non-null    int64\n",
      " 17  17      549 non-null    int64\n",
      " 18  18      549 non-null    int64\n",
      "dtypes: int64(19)\n",
      "memory usage: 81.6 KB\n"
     ]
    }
   ],
   "source": [
    "X_train_pd.info()"
   ]
  },
  {
   "cell_type": "markdown",
   "metadata": {
    "nbgrader": {
     "grade": false,
     "grade_id": "cell-be844269be69c387",
     "locked": true,
     "schema_version": 2,
     "solution": false
    }
   },
   "source": [
    "### 2. Machine Learning pipeline\n",
    "Here you are supposed to perform the desired transformations. Please, explain your results briefly after each task."
   ]
  },
  {
   "cell_type": "markdown",
   "metadata": {},
   "source": [
    "#### 2.0. Data preprocessing\n",
    "* Make some transformations of the dataset (if necessary). Briefly explain the transformations"
   ]
  },
  {
   "cell_type": "code",
   "execution_count": 6,
   "metadata": {
    "nbgrader": {
     "grade": true,
     "grade_id": "cell-a1514aa189a49fca",
     "locked": false,
     "points": 15,
     "schema_version": 2,
     "solution": true
    }
   },
   "outputs": [],
   "source": [
    "### YOUR CODE HERE\n",
    "# feature normalization due to l2 penalty\n",
    "from sklearn.preprocessing import StandardScaler\n",
    "\n",
    "scaler = StandardScaler().fit(X_train_pd)"
   ]
  },
  {
   "cell_type": "markdown",
   "metadata": {},
   "source": [
    "#### 2.1. Basic logistic regression\n",
    "* Find optimal hyperparameters for logistic regression with cross-validation on the `train` data (small grid/random search is enough, no need to find the *best* parameters).\n",
    "\n",
    "* Estimate the model quality with `f1` and `accuracy` scores.\n",
    "* Plot a ROC-curve for the trained model. For the multiclass case you might use `scikitplot` library (e.g. `scikitplot.metrics.plot_roc(test_labels, predicted_proba)`).\n",
    "\n",
    "*Note: please, use the following hyperparameters for logistic regression: `multi_class='multinomial'`, `solver='saga'` `tol=1e-3` and ` max_iter=500`.*"
   ]
  },
  {
   "cell_type": "code",
   "execution_count": 25,
   "metadata": {
    "nbgrader": {
     "grade": true,
     "grade_id": "cell-1dd5ad5d0845cbbb",
     "locked": false,
     "points": 5,
     "schema_version": 2,
     "solution": true
    }
   },
   "outputs": [
    {
     "name": "stdout",
     "output_type": "stream",
     "text": [
      "hyperparameter(regularization_type=0.1, c_parameter='l1') metrics(accuracy_mean=np.float64(0.7014678899082568), accuracy_std=np.float64(0.0632825104086856), f1_mean=np.float64(0.6895499634981082), f1_std=np.float64(0.06557072201917494))\n",
      "hyperparameter(regularization_type=0.1, c_parameter='l2') metrics(accuracy_mean=np.float64(0.739649708090075), accuracy_std=np.float64(0.038203728367919174), f1_mean=np.float64(0.7301918285291265), f1_std=np.float64(0.041242114127759244))\n",
      "hyperparameter(regularization_type=1, c_parameter='l1') metrics(accuracy_mean=np.float64(0.7869224353628023), accuracy_std=np.float64(0.027061278435151662), f1_mean=np.float64(0.784298923401994), f1_std=np.float64(0.02762780261873147))\n",
      "hyperparameter(regularization_type=1, c_parameter='l2') metrics(accuracy_mean=np.float64(0.7705254378648874), accuracy_std=np.float64(0.021477329785529835), f1_mean=np.float64(0.7675488728683947), f1_std=np.float64(0.021198737750825373))\n",
      "hyperparameter(regularization_type=10, c_parameter='l1') metrics(accuracy_mean=np.float64(0.7960633861551293), accuracy_std=np.float64(0.038088328256298196), f1_mean=np.float64(0.7943363970807054), f1_std=np.float64(0.037210399891423857))\n",
      "hyperparameter(regularization_type=10, c_parameter='l2') metrics(accuracy_mean=np.float64(0.7924103419516264), accuracy_std=np.float64(0.03340201831779843), f1_mean=np.float64(0.7908860267105858), f1_std=np.float64(0.03292271097150556))\n"
     ]
    }
   ],
   "source": [
    "### YOUR CODE HERE\n",
    "from sklearn.linear_model import LogisticRegression\n",
    "from sklearn.model_selection import cross_validate\n",
    "from sklearn.metrics import f1_score, accuracy_score\n",
    "from sklearn.pipeline import Pipeline\n",
    "from collections import namedtuple\n",
    "from itertools import product\n",
    "from typing import Literal\n",
    "\n",
    "metrics = namedtuple(\"metrics\", [\"accuracy_mean\", \"accuracy_std\", \"f1_mean\", \"f1_std\"])\n",
    "hyperparameter = namedtuple(\"hyperparameter\", [\"regularization_type\", \"c_parameter\"])\n",
    "regularization_types = [\"l1\", \"l2\"]\n",
    "c_parameters = [0.1, 1, 10]\n",
    "\n",
    "def model_class(regularization_type: Literal[\"l1\", \"l2\"], c: float):\n",
    "    return Pipeline(\n",
    "        [\n",
    "            (\"scaler\", StandardScaler()),\n",
    "            (\n",
    "                \"lr\",\n",
    "                LogisticRegression(\n",
    "                    solver=\"saga\",\n",
    "                    tol=1e-3,\n",
    "                    max_iter=500,\n",
    "                    penalty=regularization_type,\n",
    "                    C=c,\n",
    "                ),\n",
    "            ),\n",
    "        ]\n",
    "    )\n",
    "\n",
    "def parameter_search(model_class, regularization_types,c_parameters):\n",
    "    for c, regularization_type in product(c_parameters, regularization_types):\n",
    "        results = cross_validate(\n",
    "            model_class(regularization_type, c),\n",
    "            X_train,\n",
    "            y_train,\n",
    "            scoring=[\"accuracy\", \"f1_macro\"],\n",
    "        )\n",
    "        print(\n",
    "            hyperparameter(c, regularization_type),\n",
    "            metrics(\n",
    "                np.mean(results[\"test_accuracy\"]),\n",
    "                np.std(results[\"test_accuracy\"]),\n",
    "                np.mean(results[\"test_f1_macro\"]),\n",
    "                np.std(results[\"test_f1_macro\"]),\n",
    "            ),\n",
    "        )\n",
    "\n",
    "parameter_search(model_class, regularization_types = regularization_types,\n",
    "c_parameters = c_parameters)"
   ]
  },
  {
   "cell_type": "code",
   "execution_count": 34,
   "metadata": {},
   "outputs": [],
   "source": [
    "best_model = model_class(regularization_type=\"l1\", c=10).fit(X_train, y_train)\n",
    "test_predictions = best_model.predict_proba(X_test)"
   ]
  },
  {
   "cell_type": "code",
   "execution_count": 57,
   "metadata": {},
   "outputs": [
    {
     "data": {
      "text/plain": [
       "Text(0.5, 1.0, 'OneVsOthers')"
      ]
     },
     "execution_count": 57,
     "metadata": {},
     "output_type": "execute_result"
    },
    {
     "data": {
      "image/png": "[encoded data removed]",
      "text/plain": [
       "<Figure size 640x480 with 1 Axes>"
      ]
     },
     "metadata": {},
     "output_type": "display_data"
    }
   ],
   "source": [
    "from sklearn.metrics import roc_curve\n",
    "import matplotlib.pyplot as plt\n",
    "\n",
    "# one vs other\n",
    "for i, label in enumerate(best_model[\"lr\"].classes_):\n",
    "    fpr, tpr, _ = roc_curve(y_test == label, test_predictions[:, i])\n",
    "    plt.plot(fpr, tpr, label=label)\n",
    "plt.legend()\n",
    "plt.title(\"OneVsOthers\")"
   ]
  },
  {
   "cell_type": "code",
   "execution_count": null,
   "metadata": {},
   "outputs": [],
   "source": [
    "# You might use this command to install scikit-plot.\n",
    "# Warning, if you a running locally, don't call pip from within jupyter, call it from terminal in the corresponding\n",
    "# virtual environment instead\n",
    "\n",
    "# ! pip install scikit-plot"
   ]
  },
  {
   "cell_type": "markdown",
   "metadata": {},
   "source": [
    "#### 2.2. PCA: explained variance plot\n",
    "* Apply the PCA to the train part of the data. Build the explaided variance plot. "
   ]
  },
  {
   "cell_type": "code",
   "execution_count": 59,
   "metadata": {
    "nbgrader": {
     "grade": true,
     "grade_id": "cell-c6c614740bce090e",
     "locked": false,
     "points": 10,
     "schema_version": 2,
     "solution": true
    }
   },
   "outputs": [],
   "source": [
    "### YOUR CODE HERE\n",
    "from sklearn.decomposition import PCA\n",
    "\n",
    "pca_pipeline = Pipeline([(\"scaler\", StandardScaler()), (\"pca\", PCA())])"
   ]
  },
  {
   "cell_type": "code",
   "execution_count": 66,
   "metadata": {},
   "outputs": [
    {
     "data": {
      "text/plain": [
       "Text(0.5, 1.0, 'Explained variance by i-th component')"
      ]
     },
     "execution_count": 66,
     "metadata": {},
     "output_type": "execute_result"
    },
    {
     "data": {
      "image/png": "[encoded data removed]",
      "text/plain": [
       "<Figure size 640x480 with 1 Axes>"
      ]
     },
     "metadata": {},
     "output_type": "display_data"
    }
   ],
   "source": [
    "pca_pipeline.fit(X_train)\n",
    "plt.plot((t := pca_pipeline[\"pca\"].explained_variance_) / (sum(t)))\n",
    "plt.title(\"Explained variance by i-th component\")"
   ]
  },
  {
   "cell_type": "markdown",
   "metadata": {
    "nbgrader": {
     "grade": false,
     "grade_id": "cell-0c1fe666f52fe53c",
     "locked": true,
     "schema_version": 2,
     "solution": false
    }
   },
   "source": [
    "#### 2.3. PCA trasformation\n",
    "* Select the appropriate number of components. Briefly explain your choice. Should you normalize the data?\n",
    "\n",
    "*Use `fit` and `transform` methods to transform the `train` and `test` parts.*"
   ]
  },
  {
   "cell_type": "code",
   "execution_count": 67,
   "metadata": {
    "nbgrader": {
     "grade": true,
     "grade_id": "cell-96ab18d96473ef71",
     "locked": false,
     "points": 5,
     "schema_version": 2,
     "solution": true
    }
   },
   "outputs": [],
   "source": [
    "### YOUR CODE HERE\n",
    "# normalization is necessary due to dependence of method to parametrization of feature\n",
    "\n",
    "\n",
    "pca_pipeline = Pipeline(\n",
    "    [\n",
    "        (\"scaler\", StandardScaler()),\n",
    "        (\n",
    "            \"pca\",\n",
    "            PCA(n_components=5), # 5 components take 90% of variance\n",
    "            (\n",
    "                \"lr\",\n",
    "                LogisticRegression(\n",
    "                    solver=\"saga\",\n",
    "                    tol=1e-3,\n",
    "                    max_iter=500,\n",
    "                    penalty=regularization_type,\n",
    "                    C=c,\n",
    "                ),\n",
    "            ),\n",
    "        ),\n",
    "    ]\n",
    ")"
   ]
  },
  {
   "cell_type": "markdown",
   "metadata": {},
   "source": [
    "**Note: From this point `sklearn` [Pipeline](https://scikit-learn.org/stable/modules/compose.html) might be useful to perform transformations on the data. Refer to the [docs](https://scikit-learn.org/stable/modules/generated/sklearn.pipeline.Pipeline.html) for more information.**"
   ]
  },
  {
   "cell_type": "markdown",
   "metadata": {
    "nbgrader": {
     "grade": false,
     "grade_id": "cell-d28b58a35c94e988",
     "locked": true,
     "schema_version": 2,
     "solution": false
    }
   },
   "source": [
    "#### 2.4. Logistic regression on PCA-preprocessed data.\n",
    "* Find optimal hyperparameters for logistic regression with cross-validation on the transformed by PCA `train` data.\n",
    "\n",
    "* Estimate the model quality with `f1` and `accuracy` scores.\n",
    "* Plot a ROC-curve for the trained model. For the multiclass case you might use `scikitplot` library (e.g. `scikitplot.metrics.plot_roc(test_labels, predicted_proba)`).\n",
    "\n",
    "*Note: please, use the following hyperparameters for logistic regression: `multi_class='multinomial'`, `solver='saga'` and `tol=1e-3`*"
   ]
  },
  {
   "cell_type": "code",
   "execution_count": null,
   "metadata": {
    "nbgrader": {
     "grade": true,
     "grade_id": "cell-12d53ea45258fa82",
     "locked": false,
     "points": 5,
     "schema_version": 2,
     "solution": true
    }
   },
   "outputs": [],
   "source": [
    "### YOUR CODE HERE"
   ]
  },
  {
   "cell_type": "markdown",
   "metadata": {
    "nbgrader": {
     "grade": false,
     "grade_id": "cell-4fbf16c64076e139",
     "locked": true,
     "schema_version": 2,
     "solution": false
    }
   },
   "source": [
    "#### 2.5. Decision tree\n",
    "* Now train a desicion tree on the same data. Find optimal tree depth (`max_depth`) using cross-validation.\n",
    "\n",
    "* Measure the model quality using the same metrics you used above."
   ]
  },
  {
   "cell_type": "code",
   "execution_count": null,
   "metadata": {
    "nbgrader": {
     "grade": true,
     "grade_id": "cell-748ed20b51c67fab",
     "locked": false,
     "points": 15,
     "schema_version": 2,
     "solution": true
    }
   },
   "outputs": [],
   "source": [
    "from sklearn.tree import DecisionTreeClassifier\n",
    "\n",
    "# YOUR CODE HERE"
   ]
  },
  {
   "cell_type": "markdown",
   "metadata": {
    "nbgrader": {
     "grade": false,
     "grade_id": "cell-9eadd4d8a03ae67a",
     "locked": true,
     "schema_version": 2,
     "solution": false
    }
   },
   "source": [
    "#### 2.6. Bagging.\n",
    "Here starts the ensembling part.\n",
    "\n",
    "First we will use the __Bagging__ approach. Build an ensemble of $N$ algorithms varying N from $N_{min}=2$ to $N_{max}=100$ (with step 5).\n",
    "\n",
    "We will build two ensembles: of logistic regressions and of decision trees.\n",
    "\n",
    "*Comment: each ensemble should be constructed from models of the same family, so logistic regressions should not be mixed up with decision trees.*\n",
    "\n",
    "\n",
    "*Hint 1: To build a __Bagging__ ensebmle varying the ensemble size efficiently you might generate $N_{max}$ subsets of `train` data (of the same size as the original dataset) using bootstrap procedure once. Then you train a new instance of logistic regression/decision tree with optimal hyperparameters you estimated before on each subset (so you train it from scratch). Finally, to get an ensemble of $N$ models you average the $N$ out of $N_{max}$ models predictions.*\n",
    "\n",
    "*Hint 2: sklearn might help you with this taks. Some appropriate function/class might be out there.*\n",
    "\n",
    "* Plot `f1` and `accuracy` scores plots w.r.t. the size of the ensemble.\n",
    "\n",
    "* Briefly analyse the plot. What is the optimal number of algorithms? Explain your answer.\n",
    "\n",
    "* How do you think, are the hyperparameters for the decision trees you found in 2.5 optimal for trees used in ensemble? "
   ]
  },
  {
   "cell_type": "code",
   "execution_count": null,
   "metadata": {
    "nbgrader": {
     "grade": true,
     "grade_id": "cell-8fc95a2b206bdae1",
     "locked": false,
     "points": 35,
     "schema_version": 2,
     "solution": true
    }
   },
   "outputs": [],
   "source": [
    "# YOUR CODE HERE"
   ]
  },
  {
   "cell_type": "code",
   "execution_count": null,
   "metadata": {},
   "outputs": [],
   "source": []
  },
  {
   "cell_type": "markdown",
   "metadata": {
    "nbgrader": {
     "grade": false,
     "grade_id": "cell-241b7691ab44cbfb",
     "locked": true,
     "schema_version": 2,
     "solution": false
    }
   },
   "source": [
    "#### 2.7. Random Forest\n",
    "Now we will work with the Random Forest (its `sklearn` implementation).\n",
    "\n",
    "* * Plot `f1` and `accuracy` scores plots w.r.t. the number of trees in Random Forest.\n",
    "\n",
    "* What is the optimal number of trees you've got? Is it different from the optimal number of logistic regressions/decision trees in 2.6? Explain the results briefly."
   ]
  },
  {
   "cell_type": "code",
   "execution_count": null,
   "metadata": {
    "nbgrader": {
     "grade": true,
     "grade_id": "cell-888755d0f3d91620",
     "locked": false,
     "points": 15,
     "schema_version": 2,
     "solution": true
    }
   },
   "outputs": [],
   "source": [
    "from sklearn.ensemble import RandomForestClassifier\n",
    "\n",
    "# YOUR CODE HERE"
   ]
  },
  {
   "cell_type": "markdown",
   "metadata": {
    "nbgrader": {
     "grade": false,
     "grade_id": "cell-99191c0852538d4d",
     "locked": true,
     "schema_version": 2,
     "solution": false
    }
   },
   "source": [
    "#### 2.8. Learning curve\n",
    "Your goal is to estimate, how does the model behaviour change with the increase of the `train` dataset size.\n",
    "\n",
    "* Split the training data into 10 equal (almost) parts. Then train the models from above (Logistic regression, Desicion Tree, Random Forest) with optimal hyperparameters you have selected on 1 part, 2 parts (combined, so the train size in increased by 2 times), 3 parts and so on.\n",
    "\n",
    "* Build a plot of `accuracy` and `f1` scores on `test` part, varying the `train` dataset size (so the axes will be score - dataset size.\n",
    "\n",
    "* Analyse the final plot. Can you make any conlusions using it? "
   ]
  },
  {
   "cell_type": "code",
   "execution_count": null,
   "metadata": {
    "nbgrader": {
     "grade": true,
     "grade_id": "cell-e39bc7e7dff61ff9",
     "locked": false,
     "points": 15,
     "schema_version": 2,
     "solution": true
    }
   },
   "outputs": [],
   "source": [
    "# YOUR CODE HERE"
   ]
  },
  {
   "cell_type": "markdown",
   "metadata": {},
   "source": [
    "#### 2.9. Boosting\n",
    "Your goal is to build a boosting ensemble using xgboost, CatBoost or lightgbm package.\n",
    "Please, do not use the sklearn API for these models.\n",
    "\n",
    "Find optimal number of decision trees in the boosting ensembe using grid search or other methods.\n",
    "Please, explain your answer."
   ]
  },
  {
   "cell_type": "code",
   "execution_count": null,
   "metadata": {},
   "outputs": [],
   "source": [
    "# YOUR CODE HERE"
   ]
  }
 ],
 "metadata": {
  "celltoolbar": "Create Assignment",
  "kernelspec": {
   "display_name": ".venv",
   "language": "python",
   "name": "python3"
  },
  "language_info": {
   "codemirror_mode": {
    "name": "ipython",
    "version": 3
   },
   "file_extension": ".py",
   "mimetype": "text/x-python",
   "name": "python",
   "nbconvert_exporter": "python",
   "pygments_lexer": "ipython3",
   "version": "3.10.12"
  },
  "toc": {
   "base_numbering": 1,
   "nav_menu": {},
   "number_sections": false,
   "sideBar": true,
   "skip_h1_title": false,
   "title_cell": "Table of Contents",
   "title_sidebar": "Contents",
   "toc_cell": false,
   "toc_position": {},
   "toc_section_display": true,
   "toc_window_display": false
  }
 },
 "nbformat": 4,
 "nbformat_minor": 4
}
